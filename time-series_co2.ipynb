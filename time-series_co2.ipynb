{
 "cells": [
  {
   "cell_type": "markdown",
   "metadata": {},
   "source": [
    "# Time Series Analysis: Global CO<sub>2</sub> Concentration\n",
    "## Part 1: Basic ARIMA and SARIMA Modeling\n",
    "\n",
    "Carbon dioxide and other so-called \"greenhouse gases\" play a central role in regulating the temperature of the Earth. Several different processes affect the amount of CO<sub>2</sub> in the atmosphere, including:\n",
    "\n",
    "- photosynthesis\n",
    "- fossil fuel combustion\n",
    "- gaseous exchange with the ocean\n",
    "\n",
    "This notebook will gather information from the "
   ]
  },
  {
   "cell_type": "code",
   "execution_count": 1,
   "metadata": {},
   "outputs": [],
   "source": [
    "from datetime import datetime\n",
    "import pandas as pd\n",
    "import numpy as np\n",
    "import matplotlib as mpl\n",
    "import matplotlib.pyplot as plt\n",
    "import seaborn as sns\n",
    "from sklearn.model_selection import train_test_split\n",
    "\n",
    "sns.set(style='ticks')"
   ]
  },
  {
   "cell_type": "markdown",
   "metadata": {},
   "source": [
    "# Exploratory Data Analysis\n",
    "\n",
    "## Load and Preprocess Data"
   ]
  },
  {
   "cell_type": "code",
   "execution_count": 67,
   "metadata": {},
   "outputs": [
    {
     "data": {
      "text/html": [
       "<div>\n",
       "<style scoped>\n",
       "    .dataframe tbody tr th:only-of-type {\n",
       "        vertical-align: middle;\n",
       "    }\n",
       "\n",
       "    .dataframe tbody tr th {\n",
       "        vertical-align: top;\n",
       "    }\n",
       "\n",
       "    .dataframe thead th {\n",
       "        text-align: right;\n",
       "    }\n",
       "</style>\n",
       "<table border=\"1\" class=\"dataframe\">\n",
       "  <thead>\n",
       "    <tr style=\"text-align: right;\">\n",
       "      <th></th>\n",
       "      <th>date</th>\n",
       "      <th>value</th>\n",
       "    </tr>\n",
       "  </thead>\n",
       "  <tbody>\n",
       "    <tr>\n",
       "      <th>0</th>\n",
       "      <td>1958-03-30</td>\n",
       "      <td>316.16</td>\n",
       "    </tr>\n",
       "    <tr>\n",
       "      <th>1</th>\n",
       "      <td>1958-03-31</td>\n",
       "      <td>316.40</td>\n",
       "    </tr>\n",
       "    <tr>\n",
       "      <th>2</th>\n",
       "      <td>1958-04-02</td>\n",
       "      <td>317.67</td>\n",
       "    </tr>\n",
       "    <tr>\n",
       "      <th>3</th>\n",
       "      <td>1958-04-03</td>\n",
       "      <td>317.76</td>\n",
       "    </tr>\n",
       "    <tr>\n",
       "      <th>4</th>\n",
       "      <td>1958-04-04</td>\n",
       "      <td>317.09</td>\n",
       "    </tr>\n",
       "  </tbody>\n",
       "</table>\n",
       "</div>"
      ],
      "text/plain": [
       "         date   value\n",
       "0  1958-03-30  316.16\n",
       "1  1958-03-31  316.40\n",
       "2  1958-04-02  317.67\n",
       "3  1958-04-03  317.76\n",
       "4  1958-04-04  317.09"
      ]
     },
     "execution_count": 67,
     "metadata": {},
     "output_type": "execute_result"
    }
   ],
   "source": [
    "co2 = pd.read_csv('./data/co2-ppm-daily_csv.csv')\n",
    "co2.head()"
   ]
  },
  {
   "cell_type": "markdown",
   "metadata": {},
   "source": [
    "Immediately we can tell there is missing data, as there is no entry for April 1, 1958. We can re-index the DataFrame using all dates in the range."
   ]
  },
  {
   "cell_type": "code",
   "execution_count": 68,
   "metadata": {},
   "outputs": [
    {
     "data": {
      "text/html": [
       "<div>\n",
       "<style scoped>\n",
       "    .dataframe tbody tr th:only-of-type {\n",
       "        vertical-align: middle;\n",
       "    }\n",
       "\n",
       "    .dataframe tbody tr th {\n",
       "        vertical-align: top;\n",
       "    }\n",
       "\n",
       "    .dataframe thead th {\n",
       "        text-align: right;\n",
       "    }\n",
       "</style>\n",
       "<table border=\"1\" class=\"dataframe\">\n",
       "  <thead>\n",
       "    <tr style=\"text-align: right;\">\n",
       "      <th></th>\n",
       "      <th>value</th>\n",
       "    </tr>\n",
       "    <tr>\n",
       "      <th>date</th>\n",
       "      <th></th>\n",
       "    </tr>\n",
       "  </thead>\n",
       "  <tbody>\n",
       "    <tr>\n",
       "      <th>1958-03-30</th>\n",
       "      <td>316.16</td>\n",
       "    </tr>\n",
       "    <tr>\n",
       "      <th>1958-03-31</th>\n",
       "      <td>316.40</td>\n",
       "    </tr>\n",
       "    <tr>\n",
       "      <th>1958-04-02</th>\n",
       "      <td>317.67</td>\n",
       "    </tr>\n",
       "    <tr>\n",
       "      <th>1958-04-03</th>\n",
       "      <td>317.76</td>\n",
       "    </tr>\n",
       "    <tr>\n",
       "      <th>1958-04-04</th>\n",
       "      <td>317.09</td>\n",
       "    </tr>\n",
       "  </tbody>\n",
       "</table>\n",
       "</div>"
      ],
      "text/plain": [
       "             value\n",
       "date              \n",
       "1958-03-30  316.16\n",
       "1958-03-31  316.40\n",
       "1958-04-02  317.67\n",
       "1958-04-03  317.76\n",
       "1958-04-04  317.09"
      ]
     },
     "execution_count": 68,
     "metadata": {},
     "output_type": "execute_result"
    }
   ],
   "source": [
    "co2['date'] = pd.to_datetime(co2['date'], format='%Y-%m-%d')\n",
    "\n",
    "co2.set_index('date', inplace=True)\n",
    "co2.head()"
   ]
  },
  {
   "cell_type": "code",
   "execution_count": 71,
   "metadata": {},
   "outputs": [
    {
     "data": {
      "text/html": [
       "<div>\n",
       "<style scoped>\n",
       "    .dataframe tbody tr th:only-of-type {\n",
       "        vertical-align: middle;\n",
       "    }\n",
       "\n",
       "    .dataframe tbody tr th {\n",
       "        vertical-align: top;\n",
       "    }\n",
       "\n",
       "    .dataframe thead th {\n",
       "        text-align: right;\n",
       "    }\n",
       "</style>\n",
       "<table border=\"1\" class=\"dataframe\">\n",
       "  <thead>\n",
       "    <tr style=\"text-align: right;\">\n",
       "      <th></th>\n",
       "      <th>value</th>\n",
       "    </tr>\n",
       "  </thead>\n",
       "  <tbody>\n",
       "    <tr>\n",
       "      <th>1958-03-30</th>\n",
       "      <td>316.16</td>\n",
       "    </tr>\n",
       "    <tr>\n",
       "      <th>1958-03-31</th>\n",
       "      <td>316.40</td>\n",
       "    </tr>\n",
       "    <tr>\n",
       "      <th>1958-04-01</th>\n",
       "      <td>NaN</td>\n",
       "    </tr>\n",
       "    <tr>\n",
       "      <th>1958-04-02</th>\n",
       "      <td>317.67</td>\n",
       "    </tr>\n",
       "    <tr>\n",
       "      <th>1958-04-03</th>\n",
       "      <td>317.76</td>\n",
       "    </tr>\n",
       "  </tbody>\n",
       "</table>\n",
       "</div>"
      ],
      "text/plain": [
       "             value\n",
       "1958-03-30  316.16\n",
       "1958-03-31  316.40\n",
       "1958-04-01     NaN\n",
       "1958-04-02  317.67\n",
       "1958-04-03  317.76"
      ]
     },
     "execution_count": 71,
     "metadata": {},
     "output_type": "execute_result"
    }
   ],
   "source": [
    "date_index = pd.date_range(start=co2.index[0], end=co2.index[-1])\n",
    "co2 = co2.reindex(date_index, fill_value = np.nan)\n",
    "co2.head()"
   ]
  },
  {
   "cell_type": "code",
   "execution_count": 74,
   "metadata": {},
   "outputs": [
    {
     "data": {
      "text/plain": [
       "0.1390172383152657"
      ]
     },
     "execution_count": 74,
     "metadata": {},
     "output_type": "execute_result"
    }
   ],
   "source": [
    "co2['value'].isna().sum() / len(co2)"
   ]
  },
  {
   "cell_type": "markdown",
   "metadata": {},
   "source": [
    "Approximately 14% of the days listed do not have a measured CO2 value."
   ]
  },
  {
   "cell_type": "code",
   "execution_count": 59,
   "metadata": {},
   "outputs": [],
   "source": [
    "co2['year'] = co2.index.year\n",
    "co2['month'] = co2.index.month\n",
    "co2['day'] = co2.index.day"
   ]
  },
  {
   "cell_type": "code",
   "execution_count": 62,
   "metadata": {},
   "outputs": [
    {
     "data": {
      "text/html": [
       "<div>\n",
       "<style scoped>\n",
       "    .dataframe tbody tr th:only-of-type {\n",
       "        vertical-align: middle;\n",
       "    }\n",
       "\n",
       "    .dataframe tbody tr th {\n",
       "        vertical-align: top;\n",
       "    }\n",
       "\n",
       "    .dataframe thead th {\n",
       "        text-align: right;\n",
       "    }\n",
       "</style>\n",
       "<table border=\"1\" class=\"dataframe\">\n",
       "  <thead>\n",
       "    <tr style=\"text-align: right;\">\n",
       "      <th></th>\n",
       "      <th>value</th>\n",
       "      <th>year</th>\n",
       "      <th>month</th>\n",
       "      <th>day</th>\n",
       "    </tr>\n",
       "  </thead>\n",
       "  <tbody>\n",
       "    <tr>\n",
       "      <th>1958-03-30</th>\n",
       "      <td>316.16</td>\n",
       "      <td>1958</td>\n",
       "      <td>3</td>\n",
       "      <td>30</td>\n",
       "    </tr>\n",
       "    <tr>\n",
       "      <th>1958-03-31</th>\n",
       "      <td>316.40</td>\n",
       "      <td>1958</td>\n",
       "      <td>3</td>\n",
       "      <td>31</td>\n",
       "    </tr>\n",
       "    <tr>\n",
       "      <th>1958-04-01</th>\n",
       "      <td>NaN</td>\n",
       "      <td>1958</td>\n",
       "      <td>4</td>\n",
       "      <td>1</td>\n",
       "    </tr>\n",
       "    <tr>\n",
       "      <th>1958-04-02</th>\n",
       "      <td>317.67</td>\n",
       "      <td>1958</td>\n",
       "      <td>4</td>\n",
       "      <td>2</td>\n",
       "    </tr>\n",
       "    <tr>\n",
       "      <th>1958-04-03</th>\n",
       "      <td>317.76</td>\n",
       "      <td>1958</td>\n",
       "      <td>4</td>\n",
       "      <td>3</td>\n",
       "    </tr>\n",
       "  </tbody>\n",
       "</table>\n",
       "</div>"
      ],
      "text/plain": [
       "             value  year  month  day\n",
       "1958-03-30  316.16  1958      3   30\n",
       "1958-03-31  316.40  1958      3   31\n",
       "1958-04-01     NaN  1958      4    1\n",
       "1958-04-02  317.67  1958      4    2\n",
       "1958-04-03  317.76  1958      4    3"
      ]
     },
     "execution_count": 62,
     "metadata": {},
     "output_type": "execute_result"
    }
   ],
   "source": [
    "co2.head()"
   ]
  },
  {
   "cell_type": "code",
   "execution_count": 66,
   "metadata": {},
   "outputs": [
    {
     "data": {
      "text/plain": [
       "316.7845"
      ]
     },
     "execution_count": 66,
     "metadata": {},
     "output_type": "execute_result"
    }
   ],
   "source": [
    "co2[(co2['year'] == 1959) & (co2['month'] == 3)]['value'].mean()"
   ]
  },
  {
   "cell_type": "code",
   "execution_count": 28,
   "metadata": {},
   "outputs": [
    {
     "data": {
      "text/html": [
       "<div>\n",
       "<style scoped>\n",
       "    .dataframe tbody tr th:only-of-type {\n",
       "        vertical-align: middle;\n",
       "    }\n",
       "\n",
       "    .dataframe tbody tr th {\n",
       "        vertical-align: top;\n",
       "    }\n",
       "\n",
       "    .dataframe thead th {\n",
       "        text-align: right;\n",
       "    }\n",
       "</style>\n",
       "<table border=\"1\" class=\"dataframe\">\n",
       "  <thead>\n",
       "    <tr style=\"text-align: right;\">\n",
       "      <th></th>\n",
       "      <th>year</th>\n",
       "      <th>month</th>\n",
       "      <th>value</th>\n",
       "    </tr>\n",
       "  </thead>\n",
       "  <tbody>\n",
       "    <tr>\n",
       "      <th>0</th>\n",
       "      <td>1958</td>\n",
       "      <td>3</td>\n",
       "      <td>316.280000</td>\n",
       "    </tr>\n",
       "    <tr>\n",
       "      <th>1</th>\n",
       "      <td>1958</td>\n",
       "      <td>4</td>\n",
       "      <td>317.365000</td>\n",
       "    </tr>\n",
       "    <tr>\n",
       "      <th>2</th>\n",
       "      <td>1958</td>\n",
       "      <td>5</td>\n",
       "      <td>317.471111</td>\n",
       "    </tr>\n",
       "    <tr>\n",
       "      <th>3</th>\n",
       "      <td>1958</td>\n",
       "      <td>7</td>\n",
       "      <td>315.642143</td>\n",
       "    </tr>\n",
       "    <tr>\n",
       "      <th>4</th>\n",
       "      <td>1958</td>\n",
       "      <td>8</td>\n",
       "      <td>315.032000</td>\n",
       "    </tr>\n",
       "    <tr>\n",
       "      <th>...</th>\n",
       "      <td>...</td>\n",
       "      <td>...</td>\n",
       "      <td>...</td>\n",
       "    </tr>\n",
       "    <tr>\n",
       "      <th>730</th>\n",
       "      <td>2019</td>\n",
       "      <td>7</td>\n",
       "      <td>411.814348</td>\n",
       "    </tr>\n",
       "    <tr>\n",
       "      <th>731</th>\n",
       "      <td>2019</td>\n",
       "      <td>8</td>\n",
       "      <td>409.985862</td>\n",
       "    </tr>\n",
       "    <tr>\n",
       "      <th>732</th>\n",
       "      <td>2019</td>\n",
       "      <td>9</td>\n",
       "      <td>408.537586</td>\n",
       "    </tr>\n",
       "    <tr>\n",
       "      <th>733</th>\n",
       "      <td>2019</td>\n",
       "      <td>10</td>\n",
       "      <td>408.523333</td>\n",
       "    </tr>\n",
       "    <tr>\n",
       "      <th>734</th>\n",
       "      <td>2019</td>\n",
       "      <td>11</td>\n",
       "      <td>410.062000</td>\n",
       "    </tr>\n",
       "  </tbody>\n",
       "</table>\n",
       "<p>735 rows × 3 columns</p>\n",
       "</div>"
      ],
      "text/plain": [
       "     year month       value\n",
       "0    1958     3  316.280000\n",
       "1    1958     4  317.365000\n",
       "2    1958     5  317.471111\n",
       "3    1958     7  315.642143\n",
       "4    1958     8  315.032000\n",
       "..    ...   ...         ...\n",
       "730  2019     7  411.814348\n",
       "731  2019     8  409.985862\n",
       "732  2019     9  408.537586\n",
       "733  2019    10  408.523333\n",
       "734  2019    11  410.062000\n",
       "\n",
       "[735 rows x 3 columns]"
      ]
     },
     "execution_count": 28,
     "metadata": {},
     "output_type": "execute_result"
    }
   ],
   "source": [
    "co2_means = pd.DataFrame(columns=['year', 'month', 'value'])\n",
    "\n",
    "rows = []\n",
    "\n",
    "for year in co2['year'].unique():\n",
    "    for month in co2[co2['year'] == year]['month'].unique():\n",
    "        co2_mean_row = {}\n",
    "        co2_mean_row['year'] = year\n",
    "        co2_mean_row['month'] = month\n",
    "        co2_mean_row['value'] = co2[(co2['year'] == year) & (co2['month'] == month)]['value'].mean()\n",
    "        rows.append(co2_mean_row)\n",
    "        \n",
    "co2_means.append(rows)"
   ]
  },
  {
   "cell_type": "code",
   "execution_count": 26,
   "metadata": {},
   "outputs": [
    {
     "data": {
      "text/html": [
       "<div>\n",
       "<style scoped>\n",
       "    .dataframe tbody tr th:only-of-type {\n",
       "        vertical-align: middle;\n",
       "    }\n",
       "\n",
       "    .dataframe tbody tr th {\n",
       "        vertical-align: top;\n",
       "    }\n",
       "\n",
       "    .dataframe thead th {\n",
       "        text-align: right;\n",
       "    }\n",
       "</style>\n",
       "<table border=\"1\" class=\"dataframe\">\n",
       "  <thead>\n",
       "    <tr style=\"text-align: right;\">\n",
       "      <th></th>\n",
       "      <th>year</th>\n",
       "      <th>month</th>\n",
       "      <th>value</th>\n",
       "    </tr>\n",
       "  </thead>\n",
       "  <tbody>\n",
       "  </tbody>\n",
       "</table>\n",
       "</div>"
      ],
      "text/plain": [
       "Empty DataFrame\n",
       "Columns: [year, month, value]\n",
       "Index: []"
      ]
     },
     "execution_count": 26,
     "metadata": {},
     "output_type": "execute_result"
    }
   ],
   "source": [
    "co2_means.head()"
   ]
  },
  {
   "cell_type": "code",
   "execution_count": 4,
   "metadata": {},
   "outputs": [],
   "source": [
    "co2['rolling_mean_mo'] = co2['value'].rolling(30).mean()\n",
    "co2['rolling_mean_yr'] = co2['value'].rolling(365).mean()\n",
    "co2['rolling_std'] = co2['value'].rolling(365).std()"
   ]
  },
  {
   "cell_type": "code",
   "execution_count": 5,
   "metadata": {},
   "outputs": [
    {
     "data": {
      "text/html": [
       "<div>\n",
       "<style scoped>\n",
       "    .dataframe tbody tr th:only-of-type {\n",
       "        vertical-align: middle;\n",
       "    }\n",
       "\n",
       "    .dataframe tbody tr th {\n",
       "        vertical-align: top;\n",
       "    }\n",
       "\n",
       "    .dataframe thead th {\n",
       "        text-align: right;\n",
       "    }\n",
       "</style>\n",
       "<table border=\"1\" class=\"dataframe\">\n",
       "  <thead>\n",
       "    <tr style=\"text-align: right;\">\n",
       "      <th></th>\n",
       "      <th>value</th>\n",
       "      <th>year</th>\n",
       "      <th>month</th>\n",
       "      <th>day</th>\n",
       "      <th>rolling_mean_mo</th>\n",
       "      <th>rolling_mean_yr</th>\n",
       "      <th>rolling_std</th>\n",
       "    </tr>\n",
       "    <tr>\n",
       "      <th>date</th>\n",
       "      <th></th>\n",
       "      <th></th>\n",
       "      <th></th>\n",
       "      <th></th>\n",
       "      <th></th>\n",
       "      <th></th>\n",
       "      <th></th>\n",
       "    </tr>\n",
       "  </thead>\n",
       "  <tbody>\n",
       "    <tr>\n",
       "      <th>1958-03-30</th>\n",
       "      <td>316.16</td>\n",
       "      <td>1958</td>\n",
       "      <td>3</td>\n",
       "      <td>30</td>\n",
       "      <td>NaN</td>\n",
       "      <td>NaN</td>\n",
       "      <td>NaN</td>\n",
       "    </tr>\n",
       "    <tr>\n",
       "      <th>1958-03-31</th>\n",
       "      <td>316.40</td>\n",
       "      <td>1958</td>\n",
       "      <td>3</td>\n",
       "      <td>31</td>\n",
       "      <td>NaN</td>\n",
       "      <td>NaN</td>\n",
       "      <td>NaN</td>\n",
       "    </tr>\n",
       "    <tr>\n",
       "      <th>1958-04-02</th>\n",
       "      <td>317.67</td>\n",
       "      <td>1958</td>\n",
       "      <td>4</td>\n",
       "      <td>2</td>\n",
       "      <td>NaN</td>\n",
       "      <td>NaN</td>\n",
       "      <td>NaN</td>\n",
       "    </tr>\n",
       "    <tr>\n",
       "      <th>1958-04-03</th>\n",
       "      <td>317.76</td>\n",
       "      <td>1958</td>\n",
       "      <td>4</td>\n",
       "      <td>3</td>\n",
       "      <td>NaN</td>\n",
       "      <td>NaN</td>\n",
       "      <td>NaN</td>\n",
       "    </tr>\n",
       "    <tr>\n",
       "      <th>1958-04-04</th>\n",
       "      <td>317.09</td>\n",
       "      <td>1958</td>\n",
       "      <td>4</td>\n",
       "      <td>4</td>\n",
       "      <td>NaN</td>\n",
       "      <td>NaN</td>\n",
       "      <td>NaN</td>\n",
       "    </tr>\n",
       "  </tbody>\n",
       "</table>\n",
       "</div>"
      ],
      "text/plain": [
       "             value  year  month  day  rolling_mean_mo  rolling_mean_yr  \\\n",
       "date                                                                     \n",
       "1958-03-30  316.16  1958      3   30              NaN              NaN   \n",
       "1958-03-31  316.40  1958      3   31              NaN              NaN   \n",
       "1958-04-02  317.67  1958      4    2              NaN              NaN   \n",
       "1958-04-03  317.76  1958      4    3              NaN              NaN   \n",
       "1958-04-04  317.09  1958      4    4              NaN              NaN   \n",
       "\n",
       "            rolling_std  \n",
       "date                     \n",
       "1958-03-30          NaN  \n",
       "1958-03-31          NaN  \n",
       "1958-04-02          NaN  \n",
       "1958-04-03          NaN  \n",
       "1958-04-04          NaN  "
      ]
     },
     "execution_count": 5,
     "metadata": {},
     "output_type": "execute_result"
    }
   ],
   "source": [
    "co2.head()"
   ]
  },
  {
   "cell_type": "markdown",
   "metadata": {},
   "source": [
    "## Plot Time Series\n",
    "\n",
    "Visualizing our time series allows us to make rough estimates about the trend, seasonality, heteroskedacity, and stationarity:\n",
    "\n",
    "- **Trend**: long-term increase or decrease in value\n",
    "- **Seasonality**: periodicity; whether the data has patterns that repeat over fixed periods of time (month, quarter, year, etc.)\n",
    "- **Heteroskedacity**: whether variance increases or decreases as a function of time\n",
    "- **Stationarity**: whether mean and variance is constant over time"
   ]
  },
  {
   "cell_type": "markdown",
   "metadata": {},
   "source": [
    "## Test for Stationarity\n",
    "\n",
    "In the case that stationarity is more ambiguous, we can perform the Augmented Dickey-Fuller test to hypothesis test for non-stationarity."
   ]
  },
  {
   "cell_type": "code",
   "execution_count": 97,
   "metadata": {},
   "outputs": [],
   "source": [
    "co2['pct_change'] = co2['value'].pct_change()"
   ]
  },
  {
   "cell_type": "code",
   "execution_count": 100,
   "metadata": {},
   "outputs": [],
   "source": [
    "# Import Augmented Dickey-Fuller test.\n",
    "from statsmodels.tsa.stattools import adfuller"
   ]
  },
  {
   "cell_type": "code",
   "execution_count": 101,
   "metadata": {},
   "outputs": [
    {
     "ename": "MissingDataError",
     "evalue": "exog contains inf or nans",
     "output_type": "error",
     "traceback": [
      "\u001b[0;31m---------------------------------------------------------------------------\u001b[0m",
      "\u001b[0;31mMissingDataError\u001b[0m                          Traceback (most recent call last)",
      "\u001b[0;32m<ipython-input-101-51ce0d0ab95b>\u001b[0m in \u001b[0;36m<module>\u001b[0;34m\u001b[0m\n\u001b[0;32m----> 1\u001b[0;31m \u001b[0madfuller\u001b[0m\u001b[0;34m(\u001b[0m\u001b[0mco2\u001b[0m\u001b[0;34m[\u001b[0m\u001b[0;34m'pct_change'\u001b[0m\u001b[0;34m]\u001b[0m\u001b[0;34m)\u001b[0m\u001b[0;34m[\u001b[0m\u001b[0;36m1\u001b[0m\u001b[0;34m]\u001b[0m\u001b[0;34m\u001b[0m\u001b[0;34m\u001b[0m\u001b[0m\n\u001b[0m",
      "\u001b[0;32m/Users/Jelly/anaconda3/lib/python3.7/site-packages/statsmodels/tsa/stattools.py\u001b[0m in \u001b[0;36madfuller\u001b[0;34m(x, maxlag, regression, autolag, store, regresults)\u001b[0m\n\u001b[1;32m    255\u001b[0m         \u001b[0;32mif\u001b[0m \u001b[0;32mnot\u001b[0m \u001b[0mregresults\u001b[0m\u001b[0;34m:\u001b[0m\u001b[0;34m\u001b[0m\u001b[0;34m\u001b[0m\u001b[0m\n\u001b[1;32m    256\u001b[0m             icbest, bestlag = _autolag(OLS, xdshort, fullRHS, startlag,\n\u001b[0;32m--> 257\u001b[0;31m                                        maxlag, autolag)\n\u001b[0m\u001b[1;32m    258\u001b[0m         \u001b[0;32melse\u001b[0m\u001b[0;34m:\u001b[0m\u001b[0;34m\u001b[0m\u001b[0;34m\u001b[0m\u001b[0m\n\u001b[1;32m    259\u001b[0m             icbest, bestlag, alres = _autolag(OLS, xdshort, fullRHS, startlag,\n",
      "\u001b[0;32m/Users/Jelly/anaconda3/lib/python3.7/site-packages/statsmodels/tsa/stattools.py\u001b[0m in \u001b[0;36m_autolag\u001b[0;34m(mod, endog, exog, startlag, maxlag, method, modargs, fitargs, regresults)\u001b[0m\n\u001b[1;32m     90\u001b[0m     \u001b[0mmethod\u001b[0m \u001b[0;34m=\u001b[0m \u001b[0mmethod\u001b[0m\u001b[0;34m.\u001b[0m\u001b[0mlower\u001b[0m\u001b[0;34m(\u001b[0m\u001b[0;34m)\u001b[0m\u001b[0;34m\u001b[0m\u001b[0;34m\u001b[0m\u001b[0m\n\u001b[1;32m     91\u001b[0m     \u001b[0;32mfor\u001b[0m \u001b[0mlag\u001b[0m \u001b[0;32min\u001b[0m \u001b[0mrange\u001b[0m\u001b[0;34m(\u001b[0m\u001b[0mstartlag\u001b[0m\u001b[0;34m,\u001b[0m \u001b[0mstartlag\u001b[0m \u001b[0;34m+\u001b[0m \u001b[0mmaxlag\u001b[0m \u001b[0;34m+\u001b[0m \u001b[0;36m1\u001b[0m\u001b[0;34m)\u001b[0m\u001b[0;34m:\u001b[0m\u001b[0;34m\u001b[0m\u001b[0;34m\u001b[0m\u001b[0m\n\u001b[0;32m---> 92\u001b[0;31m         \u001b[0mmod_instance\u001b[0m \u001b[0;34m=\u001b[0m \u001b[0mmod\u001b[0m\u001b[0;34m(\u001b[0m\u001b[0mendog\u001b[0m\u001b[0;34m,\u001b[0m \u001b[0mexog\u001b[0m\u001b[0;34m[\u001b[0m\u001b[0;34m:\u001b[0m\u001b[0;34m,\u001b[0m \u001b[0;34m:\u001b[0m\u001b[0mlag\u001b[0m\u001b[0;34m]\u001b[0m\u001b[0;34m,\u001b[0m \u001b[0;34m*\u001b[0m\u001b[0mmodargs\u001b[0m\u001b[0;34m)\u001b[0m\u001b[0;34m\u001b[0m\u001b[0;34m\u001b[0m\u001b[0m\n\u001b[0m\u001b[1;32m     93\u001b[0m         \u001b[0mresults\u001b[0m\u001b[0;34m[\u001b[0m\u001b[0mlag\u001b[0m\u001b[0;34m]\u001b[0m \u001b[0;34m=\u001b[0m \u001b[0mmod_instance\u001b[0m\u001b[0;34m.\u001b[0m\u001b[0mfit\u001b[0m\u001b[0;34m(\u001b[0m\u001b[0;34m)\u001b[0m\u001b[0;34m\u001b[0m\u001b[0;34m\u001b[0m\u001b[0m\n\u001b[1;32m     94\u001b[0m \u001b[0;34m\u001b[0m\u001b[0m\n",
      "\u001b[0;32m/Users/Jelly/anaconda3/lib/python3.7/site-packages/statsmodels/regression/linear_model.py\u001b[0m in \u001b[0;36m__init__\u001b[0;34m(self, endog, exog, missing, hasconst, **kwargs)\u001b[0m\n\u001b[1;32m    836\u001b[0m                  **kwargs):\n\u001b[1;32m    837\u001b[0m         super(OLS, self).__init__(endog, exog, missing=missing,\n\u001b[0;32m--> 838\u001b[0;31m                                   hasconst=hasconst, **kwargs)\n\u001b[0m\u001b[1;32m    839\u001b[0m         \u001b[0;32mif\u001b[0m \u001b[0;34m\"weights\"\u001b[0m \u001b[0;32min\u001b[0m \u001b[0mself\u001b[0m\u001b[0;34m.\u001b[0m\u001b[0m_init_keys\u001b[0m\u001b[0;34m:\u001b[0m\u001b[0;34m\u001b[0m\u001b[0;34m\u001b[0m\u001b[0m\n\u001b[1;32m    840\u001b[0m             \u001b[0mself\u001b[0m\u001b[0;34m.\u001b[0m\u001b[0m_init_keys\u001b[0m\u001b[0;34m.\u001b[0m\u001b[0mremove\u001b[0m\u001b[0;34m(\u001b[0m\u001b[0;34m\"weights\"\u001b[0m\u001b[0;34m)\u001b[0m\u001b[0;34m\u001b[0m\u001b[0;34m\u001b[0m\u001b[0m\n",
      "\u001b[0;32m/Users/Jelly/anaconda3/lib/python3.7/site-packages/statsmodels/regression/linear_model.py\u001b[0m in \u001b[0;36m__init__\u001b[0;34m(self, endog, exog, weights, missing, hasconst, **kwargs)\u001b[0m\n\u001b[1;32m    682\u001b[0m             \u001b[0mweights\u001b[0m \u001b[0;34m=\u001b[0m \u001b[0mweights\u001b[0m\u001b[0;34m.\u001b[0m\u001b[0msqueeze\u001b[0m\u001b[0;34m(\u001b[0m\u001b[0;34m)\u001b[0m\u001b[0;34m\u001b[0m\u001b[0;34m\u001b[0m\u001b[0m\n\u001b[1;32m    683\u001b[0m         super(WLS, self).__init__(endog, exog, missing=missing,\n\u001b[0;32m--> 684\u001b[0;31m                                   weights=weights, hasconst=hasconst, **kwargs)\n\u001b[0m\u001b[1;32m    685\u001b[0m         \u001b[0mnobs\u001b[0m \u001b[0;34m=\u001b[0m \u001b[0mself\u001b[0m\u001b[0;34m.\u001b[0m\u001b[0mexog\u001b[0m\u001b[0;34m.\u001b[0m\u001b[0mshape\u001b[0m\u001b[0;34m[\u001b[0m\u001b[0;36m0\u001b[0m\u001b[0;34m]\u001b[0m\u001b[0;34m\u001b[0m\u001b[0;34m\u001b[0m\u001b[0m\n\u001b[1;32m    686\u001b[0m         \u001b[0mweights\u001b[0m \u001b[0;34m=\u001b[0m \u001b[0mself\u001b[0m\u001b[0;34m.\u001b[0m\u001b[0mweights\u001b[0m\u001b[0;34m\u001b[0m\u001b[0;34m\u001b[0m\u001b[0m\n",
      "\u001b[0;32m/Users/Jelly/anaconda3/lib/python3.7/site-packages/statsmodels/regression/linear_model.py\u001b[0m in \u001b[0;36m__init__\u001b[0;34m(self, endog, exog, **kwargs)\u001b[0m\n\u001b[1;32m    194\u001b[0m     \"\"\"\n\u001b[1;32m    195\u001b[0m     \u001b[0;32mdef\u001b[0m \u001b[0m__init__\u001b[0m\u001b[0;34m(\u001b[0m\u001b[0mself\u001b[0m\u001b[0;34m,\u001b[0m \u001b[0mendog\u001b[0m\u001b[0;34m,\u001b[0m \u001b[0mexog\u001b[0m\u001b[0;34m,\u001b[0m \u001b[0;34m**\u001b[0m\u001b[0mkwargs\u001b[0m\u001b[0;34m)\u001b[0m\u001b[0;34m:\u001b[0m\u001b[0;34m\u001b[0m\u001b[0;34m\u001b[0m\u001b[0m\n\u001b[0;32m--> 196\u001b[0;31m         \u001b[0msuper\u001b[0m\u001b[0;34m(\u001b[0m\u001b[0mRegressionModel\u001b[0m\u001b[0;34m,\u001b[0m \u001b[0mself\u001b[0m\u001b[0;34m)\u001b[0m\u001b[0;34m.\u001b[0m\u001b[0m__init__\u001b[0m\u001b[0;34m(\u001b[0m\u001b[0mendog\u001b[0m\u001b[0;34m,\u001b[0m \u001b[0mexog\u001b[0m\u001b[0;34m,\u001b[0m \u001b[0;34m**\u001b[0m\u001b[0mkwargs\u001b[0m\u001b[0;34m)\u001b[0m\u001b[0;34m\u001b[0m\u001b[0;34m\u001b[0m\u001b[0m\n\u001b[0m\u001b[1;32m    197\u001b[0m         \u001b[0mself\u001b[0m\u001b[0;34m.\u001b[0m\u001b[0m_data_attr\u001b[0m\u001b[0;34m.\u001b[0m\u001b[0mextend\u001b[0m\u001b[0;34m(\u001b[0m\u001b[0;34m[\u001b[0m\u001b[0;34m'pinv_wexog'\u001b[0m\u001b[0;34m,\u001b[0m \u001b[0;34m'wendog'\u001b[0m\u001b[0;34m,\u001b[0m \u001b[0;34m'wexog'\u001b[0m\u001b[0;34m,\u001b[0m \u001b[0;34m'weights'\u001b[0m\u001b[0;34m]\u001b[0m\u001b[0;34m)\u001b[0m\u001b[0;34m\u001b[0m\u001b[0;34m\u001b[0m\u001b[0m\n\u001b[1;32m    198\u001b[0m \u001b[0;34m\u001b[0m\u001b[0m\n",
      "\u001b[0;32m/Users/Jelly/anaconda3/lib/python3.7/site-packages/statsmodels/base/model.py\u001b[0m in \u001b[0;36m__init__\u001b[0;34m(self, endog, exog, **kwargs)\u001b[0m\n\u001b[1;32m    214\u001b[0m \u001b[0;34m\u001b[0m\u001b[0m\n\u001b[1;32m    215\u001b[0m     \u001b[0;32mdef\u001b[0m \u001b[0m__init__\u001b[0m\u001b[0;34m(\u001b[0m\u001b[0mself\u001b[0m\u001b[0;34m,\u001b[0m \u001b[0mendog\u001b[0m\u001b[0;34m,\u001b[0m \u001b[0mexog\u001b[0m\u001b[0;34m=\u001b[0m\u001b[0;32mNone\u001b[0m\u001b[0;34m,\u001b[0m \u001b[0;34m**\u001b[0m\u001b[0mkwargs\u001b[0m\u001b[0;34m)\u001b[0m\u001b[0;34m:\u001b[0m\u001b[0;34m\u001b[0m\u001b[0;34m\u001b[0m\u001b[0m\n\u001b[0;32m--> 216\u001b[0;31m         \u001b[0msuper\u001b[0m\u001b[0;34m(\u001b[0m\u001b[0mLikelihoodModel\u001b[0m\u001b[0;34m,\u001b[0m \u001b[0mself\u001b[0m\u001b[0;34m)\u001b[0m\u001b[0;34m.\u001b[0m\u001b[0m__init__\u001b[0m\u001b[0;34m(\u001b[0m\u001b[0mendog\u001b[0m\u001b[0;34m,\u001b[0m \u001b[0mexog\u001b[0m\u001b[0;34m,\u001b[0m \u001b[0;34m**\u001b[0m\u001b[0mkwargs\u001b[0m\u001b[0;34m)\u001b[0m\u001b[0;34m\u001b[0m\u001b[0;34m\u001b[0m\u001b[0m\n\u001b[0m\u001b[1;32m    217\u001b[0m         \u001b[0mself\u001b[0m\u001b[0;34m.\u001b[0m\u001b[0minitialize\u001b[0m\u001b[0;34m(\u001b[0m\u001b[0;34m)\u001b[0m\u001b[0;34m\u001b[0m\u001b[0;34m\u001b[0m\u001b[0m\n\u001b[1;32m    218\u001b[0m \u001b[0;34m\u001b[0m\u001b[0m\n",
      "\u001b[0;32m/Users/Jelly/anaconda3/lib/python3.7/site-packages/statsmodels/base/model.py\u001b[0m in \u001b[0;36m__init__\u001b[0;34m(self, endog, exog, **kwargs)\u001b[0m\n\u001b[1;32m     66\u001b[0m         \u001b[0mhasconst\u001b[0m \u001b[0;34m=\u001b[0m \u001b[0mkwargs\u001b[0m\u001b[0;34m.\u001b[0m\u001b[0mpop\u001b[0m\u001b[0;34m(\u001b[0m\u001b[0;34m'hasconst'\u001b[0m\u001b[0;34m,\u001b[0m \u001b[0;32mNone\u001b[0m\u001b[0;34m)\u001b[0m\u001b[0;34m\u001b[0m\u001b[0;34m\u001b[0m\u001b[0m\n\u001b[1;32m     67\u001b[0m         self.data = self._handle_data(endog, exog, missing, hasconst,\n\u001b[0;32m---> 68\u001b[0;31m                                       **kwargs)\n\u001b[0m\u001b[1;32m     69\u001b[0m         \u001b[0mself\u001b[0m\u001b[0;34m.\u001b[0m\u001b[0mk_constant\u001b[0m \u001b[0;34m=\u001b[0m \u001b[0mself\u001b[0m\u001b[0;34m.\u001b[0m\u001b[0mdata\u001b[0m\u001b[0;34m.\u001b[0m\u001b[0mk_constant\u001b[0m\u001b[0;34m\u001b[0m\u001b[0;34m\u001b[0m\u001b[0m\n\u001b[1;32m     70\u001b[0m         \u001b[0mself\u001b[0m\u001b[0;34m.\u001b[0m\u001b[0mexog\u001b[0m \u001b[0;34m=\u001b[0m \u001b[0mself\u001b[0m\u001b[0;34m.\u001b[0m\u001b[0mdata\u001b[0m\u001b[0;34m.\u001b[0m\u001b[0mexog\u001b[0m\u001b[0;34m\u001b[0m\u001b[0;34m\u001b[0m\u001b[0m\n",
      "\u001b[0;32m/Users/Jelly/anaconda3/lib/python3.7/site-packages/statsmodels/base/model.py\u001b[0m in \u001b[0;36m_handle_data\u001b[0;34m(self, endog, exog, missing, hasconst, **kwargs)\u001b[0m\n\u001b[1;32m     89\u001b[0m \u001b[0;34m\u001b[0m\u001b[0m\n\u001b[1;32m     90\u001b[0m     \u001b[0;32mdef\u001b[0m \u001b[0m_handle_data\u001b[0m\u001b[0;34m(\u001b[0m\u001b[0mself\u001b[0m\u001b[0;34m,\u001b[0m \u001b[0mendog\u001b[0m\u001b[0;34m,\u001b[0m \u001b[0mexog\u001b[0m\u001b[0;34m,\u001b[0m \u001b[0mmissing\u001b[0m\u001b[0;34m,\u001b[0m \u001b[0mhasconst\u001b[0m\u001b[0;34m,\u001b[0m \u001b[0;34m**\u001b[0m\u001b[0mkwargs\u001b[0m\u001b[0;34m)\u001b[0m\u001b[0;34m:\u001b[0m\u001b[0;34m\u001b[0m\u001b[0;34m\u001b[0m\u001b[0m\n\u001b[0;32m---> 91\u001b[0;31m         \u001b[0mdata\u001b[0m \u001b[0;34m=\u001b[0m \u001b[0mhandle_data\u001b[0m\u001b[0;34m(\u001b[0m\u001b[0mendog\u001b[0m\u001b[0;34m,\u001b[0m \u001b[0mexog\u001b[0m\u001b[0;34m,\u001b[0m \u001b[0mmissing\u001b[0m\u001b[0;34m,\u001b[0m \u001b[0mhasconst\u001b[0m\u001b[0;34m,\u001b[0m \u001b[0;34m**\u001b[0m\u001b[0mkwargs\u001b[0m\u001b[0;34m)\u001b[0m\u001b[0;34m\u001b[0m\u001b[0;34m\u001b[0m\u001b[0m\n\u001b[0m\u001b[1;32m     92\u001b[0m         \u001b[0;31m# kwargs arrays could have changed, easier to just attach here\u001b[0m\u001b[0;34m\u001b[0m\u001b[0;34m\u001b[0m\u001b[0;34m\u001b[0m\u001b[0m\n\u001b[1;32m     93\u001b[0m         \u001b[0;32mfor\u001b[0m \u001b[0mkey\u001b[0m \u001b[0;32min\u001b[0m \u001b[0mkwargs\u001b[0m\u001b[0;34m:\u001b[0m\u001b[0;34m\u001b[0m\u001b[0;34m\u001b[0m\u001b[0m\n",
      "\u001b[0;32m/Users/Jelly/anaconda3/lib/python3.7/site-packages/statsmodels/base/data.py\u001b[0m in \u001b[0;36mhandle_data\u001b[0;34m(endog, exog, missing, hasconst, **kwargs)\u001b[0m\n\u001b[1;32m    633\u001b[0m     \u001b[0mklass\u001b[0m \u001b[0;34m=\u001b[0m \u001b[0mhandle_data_class_factory\u001b[0m\u001b[0;34m(\u001b[0m\u001b[0mendog\u001b[0m\u001b[0;34m,\u001b[0m \u001b[0mexog\u001b[0m\u001b[0;34m)\u001b[0m\u001b[0;34m\u001b[0m\u001b[0;34m\u001b[0m\u001b[0m\n\u001b[1;32m    634\u001b[0m     return klass(endog, exog=exog, missing=missing, hasconst=hasconst,\n\u001b[0;32m--> 635\u001b[0;31m                  **kwargs)\n\u001b[0m",
      "\u001b[0;32m/Users/Jelly/anaconda3/lib/python3.7/site-packages/statsmodels/base/data.py\u001b[0m in \u001b[0;36m__init__\u001b[0;34m(self, endog, exog, missing, hasconst, **kwargs)\u001b[0m\n\u001b[1;32m     78\u001b[0m         \u001b[0mself\u001b[0m\u001b[0;34m.\u001b[0m\u001b[0mconst_idx\u001b[0m \u001b[0;34m=\u001b[0m \u001b[0;32mNone\u001b[0m\u001b[0;34m\u001b[0m\u001b[0;34m\u001b[0m\u001b[0m\n\u001b[1;32m     79\u001b[0m         \u001b[0mself\u001b[0m\u001b[0;34m.\u001b[0m\u001b[0mk_constant\u001b[0m \u001b[0;34m=\u001b[0m \u001b[0;36m0\u001b[0m\u001b[0;34m\u001b[0m\u001b[0;34m\u001b[0m\u001b[0m\n\u001b[0;32m---> 80\u001b[0;31m         \u001b[0mself\u001b[0m\u001b[0;34m.\u001b[0m\u001b[0m_handle_constant\u001b[0m\u001b[0;34m(\u001b[0m\u001b[0mhasconst\u001b[0m\u001b[0;34m)\u001b[0m\u001b[0;34m\u001b[0m\u001b[0;34m\u001b[0m\u001b[0m\n\u001b[0m\u001b[1;32m     81\u001b[0m         \u001b[0mself\u001b[0m\u001b[0;34m.\u001b[0m\u001b[0m_check_integrity\u001b[0m\u001b[0;34m(\u001b[0m\u001b[0;34m)\u001b[0m\u001b[0;34m\u001b[0m\u001b[0;34m\u001b[0m\u001b[0m\n\u001b[1;32m     82\u001b[0m         \u001b[0mself\u001b[0m\u001b[0;34m.\u001b[0m\u001b[0m_cache\u001b[0m \u001b[0;34m=\u001b[0m \u001b[0;34m{\u001b[0m\u001b[0;34m}\u001b[0m\u001b[0;34m\u001b[0m\u001b[0;34m\u001b[0m\u001b[0m\n",
      "\u001b[0;32m/Users/Jelly/anaconda3/lib/python3.7/site-packages/statsmodels/base/data.py\u001b[0m in \u001b[0;36m_handle_constant\u001b[0;34m(self, hasconst)\u001b[0m\n\u001b[1;32m    124\u001b[0m             \u001b[0mptp_\u001b[0m \u001b[0;34m=\u001b[0m \u001b[0mnp\u001b[0m\u001b[0;34m.\u001b[0m\u001b[0mptp\u001b[0m\u001b[0;34m(\u001b[0m\u001b[0mself\u001b[0m\u001b[0;34m.\u001b[0m\u001b[0mexog\u001b[0m\u001b[0;34m,\u001b[0m \u001b[0maxis\u001b[0m\u001b[0;34m=\u001b[0m\u001b[0;36m0\u001b[0m\u001b[0;34m)\u001b[0m\u001b[0;34m\u001b[0m\u001b[0;34m\u001b[0m\u001b[0m\n\u001b[1;32m    125\u001b[0m             \u001b[0;32mif\u001b[0m \u001b[0;32mnot\u001b[0m \u001b[0mnp\u001b[0m\u001b[0;34m.\u001b[0m\u001b[0misfinite\u001b[0m\u001b[0;34m(\u001b[0m\u001b[0mptp_\u001b[0m\u001b[0;34m)\u001b[0m\u001b[0;34m.\u001b[0m\u001b[0mall\u001b[0m\u001b[0;34m(\u001b[0m\u001b[0;34m)\u001b[0m\u001b[0;34m:\u001b[0m\u001b[0;34m\u001b[0m\u001b[0;34m\u001b[0m\u001b[0m\n\u001b[0;32m--> 126\u001b[0;31m                 \u001b[0;32mraise\u001b[0m \u001b[0mMissingDataError\u001b[0m\u001b[0;34m(\u001b[0m\u001b[0;34m'exog contains inf or nans'\u001b[0m\u001b[0;34m)\u001b[0m\u001b[0;34m\u001b[0m\u001b[0;34m\u001b[0m\u001b[0m\n\u001b[0m\u001b[1;32m    127\u001b[0m             \u001b[0mconst_idx\u001b[0m \u001b[0;34m=\u001b[0m \u001b[0mnp\u001b[0m\u001b[0;34m.\u001b[0m\u001b[0mwhere\u001b[0m\u001b[0;34m(\u001b[0m\u001b[0mptp_\u001b[0m \u001b[0;34m==\u001b[0m \u001b[0;36m0\u001b[0m\u001b[0;34m)\u001b[0m\u001b[0;34m[\u001b[0m\u001b[0;36m0\u001b[0m\u001b[0;34m]\u001b[0m\u001b[0;34m.\u001b[0m\u001b[0msqueeze\u001b[0m\u001b[0;34m(\u001b[0m\u001b[0;34m)\u001b[0m\u001b[0;34m\u001b[0m\u001b[0;34m\u001b[0m\u001b[0m\n\u001b[1;32m    128\u001b[0m             \u001b[0mself\u001b[0m\u001b[0;34m.\u001b[0m\u001b[0mk_constant\u001b[0m \u001b[0;34m=\u001b[0m \u001b[0mconst_idx\u001b[0m\u001b[0;34m.\u001b[0m\u001b[0msize\u001b[0m\u001b[0;34m\u001b[0m\u001b[0;34m\u001b[0m\u001b[0m\n",
      "\u001b[0;31mMissingDataError\u001b[0m: exog contains inf or nans"
     ]
    }
   ],
   "source": [
    "adfuller(co2['pct_change'])[1]"
   ]
  },
  {
   "cell_type": "code",
   "execution_count": 24,
   "metadata": {},
   "outputs": [
    {
     "data": {
      "text/plain": [
       "0.7688080774710268"
      ]
     },
     "execution_count": 24,
     "metadata": {},
     "output_type": "execute_result"
    }
   ],
   "source": [
    "# Run ADF test on original (non-differenced!) data.\n",
    "adfuller(co2['value'])[1]"
   ]
  },
  {
   "cell_type": "markdown",
   "metadata": {},
   "source": [
    "This large *p*-value indicates non-stationarity in our data (but this step would be necessary in cases where stationarity is not immediately obvious)."
   ]
  },
  {
   "cell_type": "code",
   "execution_count": 37,
   "metadata": {},
   "outputs": [],
   "source": []
  },
  {
   "cell_type": "code",
   "execution_count": 57,
   "metadata": {
    "scrolled": false
   },
   "outputs": [
    {
     "data": {
      "text/plain": [
       "[<matplotlib.lines.Line2D at 0x1c37017d30>]"
      ]
     },
     "execution_count": 57,
     "metadata": {},
     "output_type": "execute_result"
    },
    {
     "data": {
      "image/png": "[encoded data removed]",
      "text/plain": [
       "<Figure size 936x576 with 1 Axes>"
      ]
     },
     "metadata": {},
     "output_type": "display_data"
    }
   ],
   "source": [
    "plt.figure(figsize=(13,8))\n",
    "\n",
    "plt.plot(co2['value'], linewidth=1)\n",
    "plt.plot(co2['rolling_mean'], linewidth=3)"
   ]
  },
  {
   "cell_type": "markdown",
   "metadata": {},
   "source": [
    "- **Trend**: increasing, mostly linear\n",
    "- **Seasonality**: peaks every 12 months\n",
    "- **Heteroskedacity**: does not appear to be heteroskedastic\n",
    "- **Stationarity**: definitely not"
   ]
  },
  {
   "cell_type": "markdown",
   "metadata": {},
   "source": [
    "# Box–Jenkins Method\n",
    "\n",
    "The Box–Jenkins method applies autoregressive moving average (ARMA) or autoregressive integrated moving average (ARIMA) models to find a best-fit model using past values of a time series.\n",
    "\n",
    "The steps are:\n",
    "\n",
    "1. Model identification and model selection\n",
    "2. Parameter estimation\n",
    "3. Model checking\n",
    "\n",
    "## Model Identification and Model Selection\n",
    "\n",
    "### Assessing Stationarity"
   ]
  },
  {
   "cell_type": "code",
   "execution_count": 70,
   "metadata": {},
   "outputs": [],
   "source": [
    "from statsmodels.graphics.tsaplots import plot_acf, plot_pacf"
   ]
  },
  {
   "cell_type": "code",
   "execution_count": 82,
   "metadata": {},
   "outputs": [
    {
     "data": {
      "image/png": "[encoded data removed]",
      "text/plain": [
       "<Figure size 432x288 with 1 Axes>"
      ]
     },
     "metadata": {},
     "output_type": "display_data"
    }
   ],
   "source": [
    "plot_acf(co2['value'], lags=2000);"
   ]
  },
  {
   "cell_type": "code",
   "execution_count": 84,
   "metadata": {},
   "outputs": [
    {
     "data": {
      "image/png": "[encoded data removed]",
      "text/plain": [
       "<Figure size 432x288 with 1 Axes>"
      ]
     },
     "metadata": {},
     "output_type": "display_data"
    }
   ],
   "source": [
    "plot_pacf(co2['value'], lags=370);"
   ]
  },
  {
   "cell_type": "markdown",
   "metadata": {},
   "source": [
    "- **Trend**: lags 1 and 2 are strongly correlated, indicating trend\n",
    "- **Seasonality**: every 12 months has the strongest autocorrelations. \n",
    "\n",
    "Due to the high autocorrelation, we most likely need to transform our data to achieve stationarity. We can do this by taking differentials."
   ]
  },
  {
   "cell_type": "markdown",
   "metadata": {},
   "source": [
    "### Choosing Parameter _d_: Differencing for Stationarity\n",
    "\n",
    "Our model order _d_ is chosen by the number of differences we take on our data to achieve **stationarity**."
   ]
  },
  {
   "cell_type": "code",
   "execution_count": 85,
   "metadata": {},
   "outputs": [],
   "source": [
    "co2['value_d1'] = co2['value'].diff(1)"
   ]
  },
  {
   "cell_type": "code",
   "execution_count": 86,
   "metadata": {},
   "outputs": [
    {
     "data": {
      "image/png": "[encoded data removed]",
      "text/plain": [
       "<Figure size 576x360 with 1 Axes>"
      ]
     },
     "metadata": {},
     "output_type": "display_data"
    }
   ],
   "source": [
    "plt.figure(figsize=(8,5))\n",
    "ax = sns.lineplot(x = co2.index,\n",
    "             y = co2['value_d1'])\n",
    "\n",
    "ax.set(title='1st-Order Difference')\n",
    "ax.set(ylabel='CO2 level (ppm)');"
   ]
  },
  {
   "cell_type": "code",
   "execution_count": 88,
   "metadata": {},
   "outputs": [
    {
     "data": {
      "image/png": "[encoded data removed]",
      "text/plain": [
       "<Figure size 576x360 with 1 Axes>"
      ]
     },
     "metadata": {},
     "output_type": "display_data"
    }
   ],
   "source": [
    "plt.figure(figsize=(8,5))\n",
    "ax = sns.lineplot(x = co2.index[:1000],\n",
    "             y = co2['value_d1'][:1000])\n",
    "\n",
    "ax.set(title='1st-Order Difference')\n",
    "ax.set(ylabel='CO2 level (ppm)');"
   ]
  },
  {
   "cell_type": "code",
   "execution_count": 90,
   "metadata": {},
   "outputs": [
    {
     "data": {
      "text/plain": [
       "1.2840149338713592e-24"
      ]
     },
     "execution_count": 90,
     "metadata": {},
     "output_type": "execute_result"
    }
   ],
   "source": [
    "adfuller(co2['value_d1'].dropna())[1]"
   ]
  },
  {
   "cell_type": "markdown",
   "metadata": {},
   "source": [
    "Since _p_ for the augmented Dickey Fuller test is much less than 0.05, our data achieves stationarity after a first-order difference; therefore, parameter _d_ has a value of `1`."
   ]
  },
  {
   "cell_type": "markdown",
   "metadata": {},
   "source": [
    "### Choosing Parameter _q_: Determining Moving Average (MA) Order"
   ]
  },
  {
   "cell_type": "code",
   "execution_count": 93,
   "metadata": {},
   "outputs": [
    {
     "data": {
      "image/png": "[encoded data removed]",
      "text/plain": [
       "<Figure size 432x288 with 1 Axes>"
      ]
     },
     "metadata": {},
     "output_type": "display_data"
    }
   ],
   "source": [
    "plot_acf(co2['value_d1'].dropna(), lags=40);"
   ]
  },
  {
   "cell_type": "markdown",
   "metadata": {},
   "source": [
    "We should still try to remove seasonality from our data to see if that improves the stationarity, however. It appears there is a 12-month seasonal fluctuation."
   ]
  },
  {
   "cell_type": "code",
   "execution_count": 278,
   "metadata": {},
   "outputs": [
    {
     "data": {
      "image/png": "[encoded data removed]",
      "text/plain": [
       "<Figure size 576x360 with 1 Axes>"
      ]
     },
     "metadata": {},
     "output_type": "display_data"
    }
   ],
   "source": [
    "co2['interpolated_s12'] = co2['interpolated_d1'].diff(12)\n",
    "\n",
    "plt.figure(figsize=(8,5))\n",
    "ax = sns.lineplot(x = co2.index[:101],\n",
    "             y = co2['interpolated_s12'][:101])\n",
    "\n",
    "ax.set(title='Seasonal (12-month) Difference')\n",
    "ax.set(ylabel='CO2 level (ppm)');"
   ]
  },
  {
   "cell_type": "code",
   "execution_count": 279,
   "metadata": {},
   "outputs": [
    {
     "data": {
      "text/plain": [
       "1.366543075329438e-19"
      ]
     },
     "execution_count": 279,
     "metadata": {},
     "output_type": "execute_result"
    }
   ],
   "source": [
    "adfuller(co2['interpolated_s12'].dropna())[1]"
   ]
  },
  {
   "cell_type": "markdown",
   "metadata": {},
   "source": [
    "The AR component describes data that use previous observations as predictors and has long-term stability.\n",
    "\n",
    "We want to look for positive correlations in the *partial* autocorrelations (PACF)."
   ]
  },
  {
   "cell_type": "code",
   "execution_count": 94,
   "metadata": {},
   "outputs": [
    {
     "data": {
      "image/png": "[encoded data removed]",
      "text/plain": [
       "<Figure size 432x288 with 1 Axes>"
      ]
     },
     "metadata": {},
     "output_type": "display_data"
    }
   ],
   "source": [
    "plot_pacf(co2['value_d1'].dropna(), lags=40);"
   ]
  },
  {
   "cell_type": "markdown",
   "metadata": {},
   "source": [
    "From the PACF, we see  \n",
    "\n",
    "- if lag 1 is positive, then choose the highest lag that is still positive.\n",
    "- since lag 2 is negative, then we select lag 1, therefore _p_ has a value of 1."
   ]
  },
  {
   "cell_type": "markdown",
   "metadata": {},
   "source": [
    "### Choosing Parameter _q_: Determining Moving Average (MA) Order"
   ]
  },
  {
   "cell_type": "markdown",
   "metadata": {},
   "source": [
    "The MA component smooths out data that may have short-term fluctuations.\n",
    "\n",
    "We want to look for lags that are positive and significant. "
   ]
  },
  {
   "cell_type": "code",
   "execution_count": 276,
   "metadata": {},
   "outputs": [
    {
     "data": {
      "image/png": "[encoded data removed]",
      "text/plain": [
       "<Figure size 432x288 with 1 Axes>"
      ]
     },
     "metadata": {},
     "output_type": "display_data"
    }
   ],
   "source": [
    "plot_acf(co2['interpolated_d1'].dropna(), lags=25);"
   ]
  },
  {
   "cell_type": "markdown",
   "metadata": {},
   "source": [
    "From the ACF, we could choose a value of 0?\n",
    "\n",
    "- there is no sharp drop-off\n",
    "- lag-1 is not negative"
   ]
  },
  {
   "cell_type": "markdown",
   "metadata": {},
   "source": [
    "## Akaike Information Criteron (AIC) with Small Sample Correction"
   ]
  },
  {
   "cell_type": "code",
   "execution_count": 280,
   "metadata": {},
   "outputs": [],
   "source": [
    "from statsmodels.tsa.arima_model import ARIMA"
   ]
  },
  {
   "cell_type": "code",
   "execution_count": 281,
   "metadata": {},
   "outputs": [],
   "source": [
    "X_train, X_test, y_train, y_test = train_test_split(co2.index,\n",
    "                                                    co2['interpolated'],\n",
    "                                                    test_size = 0.3,\n",
    "                                                    shuffle = False)"
   ]
  },
  {
   "cell_type": "code",
   "execution_count": 282,
   "metadata": {},
   "outputs": [],
   "source": [
    "model = ARIMA(endog = y_train.astype(float).dropna(), # endog = Y variable\n",
    "              order = (1,2,0)) "
   ]
  },
  {
   "cell_type": "code",
   "execution_count": 283,
   "metadata": {},
   "outputs": [],
   "source": [
    "fitted = model.fit()"
   ]
  },
  {
   "cell_type": "code",
   "execution_count": 284,
   "metadata": {},
   "outputs": [
    {
     "data": {
      "text/plain": [
       "1323.2382152507403"
      ]
     },
     "execution_count": 284,
     "metadata": {},
     "output_type": "execute_result"
    }
   ],
   "source": [
    "fitted.aict"
   ]
  },
  {
   "cell_type": "markdown",
   "metadata": {},
   "source": [
    "## Fit a Seasonal ARIMA Model\n",
    "\n",
    "ARIMA is a powerful method but it does not account for seasonal data, and atmospheric CO2 concentration is highly seasonal. So we will be using SARIMA (although the module is called SARIMAX because it supports eXogenous variables as well."
   ]
  },
  {
   "cell_type": "code",
   "execution_count": 212,
   "metadata": {},
   "outputs": [],
   "source": []
  },
  {
   "cell_type": "code",
   "execution_count": 213,
   "metadata": {},
   "outputs": [],
   "source": [
    "from statsmodels.tsa.statespace.sarimax import SARIMAX"
   ]
  },
  {
   "cell_type": "markdown",
   "metadata": {},
   "source": [
    "We take the orders _p_, _d_, and _q_ from earlier. "
   ]
  },
  {
   "cell_type": "code",
   "execution_count": 256,
   "metadata": {},
   "outputs": [],
   "source": [
    "sarima = SARIMAX(endog = y_train.astype(float).dropna(),\n",
    "                 order = (1, 1, 0),\n",
    "                 seasonal_order = (1, 0, 0, 12))\n",
    "\n",
    "model = sarima.fit()"
   ]
  },
  {
   "cell_type": "code",
   "execution_count": 204,
   "metadata": {},
   "outputs": [
    {
     "name": "stdout",
     "output_type": "stream",
     "text": [
      "2000-07-31 00:00:00\n",
      "2018-09-30 00:00:00\n"
     ]
    }
   ],
   "source": [
    "print(X_test[0])\n",
    "print(X_test[-1])"
   ]
  },
  {
   "cell_type": "code",
   "execution_count": 245,
   "metadata": {},
   "outputs": [
    {
     "data": {
      "text/plain": [
       "2000-07-31    370.676878\n",
       "2000-08-31    368.284465\n",
       "2000-09-30    366.261603\n",
       "2000-10-31    366.803712\n",
       "2000-11-30    368.099132\n",
       "                 ...    \n",
       "2018-05-31    387.076323\n",
       "2018-06-30    387.134349\n",
       "2018-07-31    386.639623\n",
       "2018-08-31    385.482783\n",
       "2018-09-30    384.504638\n",
       "Freq: M, Length: 219, dtype: float64"
      ]
     },
     "execution_count": 245,
     "metadata": {},
     "output_type": "execute_result"
    }
   ],
   "source": [
    "preds = model.predict(start=datetime(2000, 7, 31),\n",
    "                      end=datetime(2018, 9, 30))\n",
    "preds"
   ]
  },
  {
   "cell_type": "code",
   "execution_count": 227,
   "metadata": {},
   "outputs": [],
   "source": [
    "sarima_df = pd.DataFrame(columns=['date', 'co2', 'data'])"
   ]
  },
  {
   "cell_type": "code",
   "execution_count": 237,
   "metadata": {},
   "outputs": [
    {
     "data": {
      "text/html": [
       "<div>\n",
       "<style scoped>\n",
       "    .dataframe tbody tr th:only-of-type {\n",
       "        vertical-align: middle;\n",
       "    }\n",
       "\n",
       "    .dataframe tbody tr th {\n",
       "        vertical-align: top;\n",
       "    }\n",
       "\n",
       "    .dataframe thead th {\n",
       "        text-align: right;\n",
       "    }\n",
       "</style>\n",
       "<table border=\"1\" class=\"dataframe\">\n",
       "  <thead>\n",
       "    <tr style=\"text-align: right;\">\n",
       "      <th></th>\n",
       "      <th>date</th>\n",
       "      <th>co2</th>\n",
       "      <th>data</th>\n",
       "    </tr>\n",
       "  </thead>\n",
       "  <tbody>\n",
       "    <tr>\n",
       "      <th>0</th>\n",
       "      <td>1958-03-31</td>\n",
       "      <td>315.71</td>\n",
       "      <td>train</td>\n",
       "    </tr>\n",
       "    <tr>\n",
       "      <th>1</th>\n",
       "      <td>1958-04-30</td>\n",
       "      <td>317.45</td>\n",
       "      <td>train</td>\n",
       "    </tr>\n",
       "    <tr>\n",
       "      <th>2</th>\n",
       "      <td>1958-05-31</td>\n",
       "      <td>317.50</td>\n",
       "      <td>train</td>\n",
       "    </tr>\n",
       "    <tr>\n",
       "      <th>3</th>\n",
       "      <td>1958-06-30</td>\n",
       "      <td>317.10</td>\n",
       "      <td>train</td>\n",
       "    </tr>\n",
       "    <tr>\n",
       "      <th>4</th>\n",
       "      <td>1958-07-31</td>\n",
       "      <td>315.86</td>\n",
       "      <td>train</td>\n",
       "    </tr>\n",
       "  </tbody>\n",
       "</table>\n",
       "</div>"
      ],
      "text/plain": [
       "        date     co2   data\n",
       "0 1958-03-31  315.71  train\n",
       "1 1958-04-30  317.45  train\n",
       "2 1958-05-31  317.50  train\n",
       "3 1958-06-30  317.10  train\n",
       "4 1958-07-31  315.86  train"
      ]
     },
     "execution_count": 237,
     "metadata": {},
     "output_type": "execute_result"
    }
   ],
   "source": [
    "train_df = pd.DataFrame(columns=['date', 'co2', 'data'])\n",
    "train_df['date'] = pd.to_datetime(X_train, format='%Y-%m-%d')\n",
    "train_df['co2'] = y_train.values\n",
    "train_df['data'] = 'train'\n",
    "train_df.head()"
   ]
  },
  {
   "cell_type": "code",
   "execution_count": 238,
   "metadata": {},
   "outputs": [
    {
     "data": {
      "text/html": [
       "<div>\n",
       "<style scoped>\n",
       "    .dataframe tbody tr th:only-of-type {\n",
       "        vertical-align: middle;\n",
       "    }\n",
       "\n",
       "    .dataframe tbody tr th {\n",
       "        vertical-align: top;\n",
       "    }\n",
       "\n",
       "    .dataframe thead th {\n",
       "        text-align: right;\n",
       "    }\n",
       "</style>\n",
       "<table border=\"1\" class=\"dataframe\">\n",
       "  <thead>\n",
       "    <tr style=\"text-align: right;\">\n",
       "      <th></th>\n",
       "      <th>date</th>\n",
       "      <th>co2</th>\n",
       "      <th>data</th>\n",
       "    </tr>\n",
       "  </thead>\n",
       "  <tbody>\n",
       "    <tr>\n",
       "      <th>0</th>\n",
       "      <td>2000-07-31</td>\n",
       "      <td>369.86</td>\n",
       "      <td>test</td>\n",
       "    </tr>\n",
       "    <tr>\n",
       "      <th>1</th>\n",
       "      <td>2000-08-31</td>\n",
       "      <td>368.13</td>\n",
       "      <td>test</td>\n",
       "    </tr>\n",
       "    <tr>\n",
       "      <th>2</th>\n",
       "      <td>2000-09-30</td>\n",
       "      <td>367.00</td>\n",
       "      <td>test</td>\n",
       "    </tr>\n",
       "    <tr>\n",
       "      <th>3</th>\n",
       "      <td>2000-10-31</td>\n",
       "      <td>367.03</td>\n",
       "      <td>test</td>\n",
       "    </tr>\n",
       "    <tr>\n",
       "      <th>4</th>\n",
       "      <td>2000-11-30</td>\n",
       "      <td>368.37</td>\n",
       "      <td>test</td>\n",
       "    </tr>\n",
       "  </tbody>\n",
       "</table>\n",
       "</div>"
      ],
      "text/plain": [
       "        date     co2  data\n",
       "0 2000-07-31  369.86  test\n",
       "1 2000-08-31  368.13  test\n",
       "2 2000-09-30  367.00  test\n",
       "3 2000-10-31  367.03  test\n",
       "4 2000-11-30  368.37  test"
      ]
     },
     "execution_count": 238,
     "metadata": {},
     "output_type": "execute_result"
    }
   ],
   "source": [
    "test_df = pd.DataFrame(columns=['date', 'co2', 'data'])\n",
    "test_df['date'] = pd.to_datetime(X_test, format='%Y-%m-%d')\n",
    "test_df['co2'] = y_test.values\n",
    "test_df['data'] = 'test'\n",
    "test_df.head()"
   ]
  },
  {
   "cell_type": "code",
   "execution_count": 246,
   "metadata": {},
   "outputs": [
    {
     "data": {
      "text/html": [
       "<div>\n",
       "<style scoped>\n",
       "    .dataframe tbody tr th:only-of-type {\n",
       "        vertical-align: middle;\n",
       "    }\n",
       "\n",
       "    .dataframe tbody tr th {\n",
       "        vertical-align: top;\n",
       "    }\n",
       "\n",
       "    .dataframe thead th {\n",
       "        text-align: right;\n",
       "    }\n",
       "</style>\n",
       "<table border=\"1\" class=\"dataframe\">\n",
       "  <thead>\n",
       "    <tr style=\"text-align: right;\">\n",
       "      <th></th>\n",
       "      <th>date</th>\n",
       "      <th>co2</th>\n",
       "      <th>data</th>\n",
       "    </tr>\n",
       "  </thead>\n",
       "  <tbody>\n",
       "    <tr>\n",
       "      <th>0</th>\n",
       "      <td>2000-07-31</td>\n",
       "      <td>370.676878</td>\n",
       "      <td>preds</td>\n",
       "    </tr>\n",
       "    <tr>\n",
       "      <th>1</th>\n",
       "      <td>2000-08-31</td>\n",
       "      <td>368.284465</td>\n",
       "      <td>preds</td>\n",
       "    </tr>\n",
       "    <tr>\n",
       "      <th>2</th>\n",
       "      <td>2000-09-30</td>\n",
       "      <td>366.261603</td>\n",
       "      <td>preds</td>\n",
       "    </tr>\n",
       "    <tr>\n",
       "      <th>3</th>\n",
       "      <td>2000-10-31</td>\n",
       "      <td>366.803712</td>\n",
       "      <td>preds</td>\n",
       "    </tr>\n",
       "    <tr>\n",
       "      <th>4</th>\n",
       "      <td>2000-11-30</td>\n",
       "      <td>368.099132</td>\n",
       "      <td>preds</td>\n",
       "    </tr>\n",
       "  </tbody>\n",
       "</table>\n",
       "</div>"
      ],
      "text/plain": [
       "        date         co2   data\n",
       "0 2000-07-31  370.676878  preds\n",
       "1 2000-08-31  368.284465  preds\n",
       "2 2000-09-30  366.261603  preds\n",
       "3 2000-10-31  366.803712  preds\n",
       "4 2000-11-30  368.099132  preds"
      ]
     },
     "execution_count": 246,
     "metadata": {},
     "output_type": "execute_result"
    }
   ],
   "source": [
    "preds_df = pd.DataFrame(columns=['date', 'co2', 'data'])\n",
    "preds_df['date'] = pd.to_datetime(X_test, format='%Y-%m-%d')\n",
    "preds_df['co2'] = preds.values\n",
    "preds_df['data'] = 'preds'\n",
    "preds_df.head()"
   ]
  },
  {
   "cell_type": "code",
   "execution_count": 249,
   "metadata": {},
   "outputs": [
    {
     "data": {
      "text/html": [
       "<div>\n",
       "<style scoped>\n",
       "    .dataframe tbody tr th:only-of-type {\n",
       "        vertical-align: middle;\n",
       "    }\n",
       "\n",
       "    .dataframe tbody tr th {\n",
       "        vertical-align: top;\n",
       "    }\n",
       "\n",
       "    .dataframe thead th {\n",
       "        text-align: right;\n",
       "    }\n",
       "</style>\n",
       "<table border=\"1\" class=\"dataframe\">\n",
       "  <thead>\n",
       "    <tr style=\"text-align: right;\">\n",
       "      <th></th>\n",
       "      <th>date</th>\n",
       "      <th>co2</th>\n",
       "      <th>data</th>\n",
       "    </tr>\n",
       "  </thead>\n",
       "  <tbody>\n",
       "    <tr>\n",
       "      <th>945</th>\n",
       "      <td>2018-09-30</td>\n",
       "      <td>384.504638</td>\n",
       "      <td>preds</td>\n",
       "    </tr>\n",
       "    <tr>\n",
       "      <th>726</th>\n",
       "      <td>2018-09-30</td>\n",
       "      <td>405.510000</td>\n",
       "      <td>test</td>\n",
       "    </tr>\n",
       "    <tr>\n",
       "      <th>725</th>\n",
       "      <td>2018-08-31</td>\n",
       "      <td>406.990000</td>\n",
       "      <td>test</td>\n",
       "    </tr>\n",
       "    <tr>\n",
       "      <th>944</th>\n",
       "      <td>2018-08-31</td>\n",
       "      <td>385.482783</td>\n",
       "      <td>preds</td>\n",
       "    </tr>\n",
       "    <tr>\n",
       "      <th>724</th>\n",
       "      <td>2018-07-31</td>\n",
       "      <td>408.710000</td>\n",
       "      <td>test</td>\n",
       "    </tr>\n",
       "    <tr>\n",
       "      <th>...</th>\n",
       "      <td>...</td>\n",
       "      <td>...</td>\n",
       "      <td>...</td>\n",
       "    </tr>\n",
       "    <tr>\n",
       "      <th>4</th>\n",
       "      <td>1958-07-31</td>\n",
       "      <td>315.860000</td>\n",
       "      <td>train</td>\n",
       "    </tr>\n",
       "    <tr>\n",
       "      <th>3</th>\n",
       "      <td>1958-06-30</td>\n",
       "      <td>317.100000</td>\n",
       "      <td>train</td>\n",
       "    </tr>\n",
       "    <tr>\n",
       "      <th>2</th>\n",
       "      <td>1958-05-31</td>\n",
       "      <td>317.500000</td>\n",
       "      <td>train</td>\n",
       "    </tr>\n",
       "    <tr>\n",
       "      <th>1</th>\n",
       "      <td>1958-04-30</td>\n",
       "      <td>317.450000</td>\n",
       "      <td>train</td>\n",
       "    </tr>\n",
       "    <tr>\n",
       "      <th>0</th>\n",
       "      <td>1958-03-31</td>\n",
       "      <td>315.710000</td>\n",
       "      <td>train</td>\n",
       "    </tr>\n",
       "  </tbody>\n",
       "</table>\n",
       "<p>946 rows × 3 columns</p>\n",
       "</div>"
      ],
      "text/plain": [
       "          date         co2   data\n",
       "945 2018-09-30  384.504638  preds\n",
       "726 2018-09-30  405.510000   test\n",
       "725 2018-08-31  406.990000   test\n",
       "944 2018-08-31  385.482783  preds\n",
       "724 2018-07-31  408.710000   test\n",
       "..         ...         ...    ...\n",
       "4   1958-07-31  315.860000  train\n",
       "3   1958-06-30  317.100000  train\n",
       "2   1958-05-31  317.500000  train\n",
       "1   1958-04-30  317.450000  train\n",
       "0   1958-03-31  315.710000  train\n",
       "\n",
       "[946 rows x 3 columns]"
      ]
     },
     "execution_count": 249,
     "metadata": {},
     "output_type": "execute_result"
    }
   ],
   "source": [
    "plot_df = pd.concat([train_df, test_df, preds_df], axis=0)\n",
    "plot_df.reset_index(drop=True, inplace=True)\n",
    "plot_df.sort_values(by='date', ascending=False)"
   ]
  },
  {
   "cell_type": "code",
   "execution_count": 253,
   "metadata": {},
   "outputs": [
    {
     "data": {
      "image/png": "[encoded data removed]",
      "text/plain": [
       "<Figure size 576x360 with 1 Axes>"
      ]
     },
     "metadata": {},
     "output_type": "display_data"
    }
   ],
   "source": [
    "plt.figure(figsize=(8,5))\n",
    "\n",
    "ax = sns.lineplot(x='date', y='co2', hue='data', data=plot_df)\n",
    "\n",
    "ax.set(title='CO2 level')\n",
    "ax.set(ylabel='parts per million');"
   ]
  },
  {
   "cell_type": "code",
   "execution_count": 260,
   "metadata": {},
   "outputs": [],
   "source": [
    "from sklearn.metrics import mean_squared_error"
   ]
  },
  {
   "cell_type": "code",
   "execution_count": 261,
   "metadata": {},
   "outputs": [
    {
     "data": {
      "text/plain": [
       "4.271876363592099"
      ]
     },
     "execution_count": 261,
     "metadata": {},
     "output_type": "execute_result"
    }
   ],
   "source": [
    "mean_squared_error(y_test.values, preds)"
   ]
  },
  {
   "cell_type": "code",
   "execution_count": 262,
   "metadata": {},
   "outputs": [
    {
     "name": "stdout",
     "output_type": "stream",
     "text": [
      "Attempting to fit SARIMAX(1,1,0)x(0,0,0,0)\n",
      "The RMSE for (1, 1, 0)x(0,0,0,0) is: 20.164158151766028\n",
      "Attempting to fit SARIMAX(1,1,0)x(0,0,0,4)\n",
      "The RMSE for (1, 1, 0)x(0,0,0,4) is: 20.164158151766028\n",
      "Attempting to fit SARIMAX(1,1,0)x(0,0,0,8)\n",
      "The RMSE for (1, 1, 0)x(0,0,0,8) is: 20.164158151766028\n",
      "Attempting to fit SARIMAX(1,1,0)x(0,0,0,12)\n",
      "The RMSE for (1, 1, 0)x(0,0,0,12) is: 20.164158151766028\n",
      "Attempting to fit SARIMAX(1,1,0)x(0,1,0,0)\n",
      "Attempting to fit SARIMAX(1,1,0)x(0,1,0,4)\n",
      "The RMSE for (1, 1, 0)x(0,1,0,4) is: 37.966056830046774\n",
      "Attempting to fit SARIMAX(1,1,0)x(0,1,0,8)\n",
      "The RMSE for (1, 1, 0)x(0,1,0,8) is: 62.55716518620318\n",
      "Attempting to fit SARIMAX(1,1,0)x(0,1,0,12)\n",
      "The RMSE for (1, 1, 0)x(0,1,0,12) is: 9.358367091107278\n",
      "Attempting to fit SARIMAX(1,1,0)x(0,2,0,0)\n",
      "Attempting to fit SARIMAX(1,1,0)x(0,2,0,4)\n",
      "The RMSE for (1, 1, 0)x(0,2,0,4) is: 1008.1183881416472\n",
      "Attempting to fit SARIMAX(1,1,0)x(0,2,0,8)\n",
      "The RMSE for (1, 1, 0)x(0,2,0,8) is: 1785.2370185538416\n",
      "Attempting to fit SARIMAX(1,1,0)x(0,2,0,12)\n",
      "The RMSE for (1, 1, 0)x(0,2,0,12) is: 23.78904398075912\n",
      "Attempting to fit SARIMAX(1,1,0)x(0,0,1,0)\n",
      "The RMSE for (1, 1, 0)x(0,0,1,0) is: 19.838964141977254\n",
      "Attempting to fit SARIMAX(1,1,0)x(0,0,1,4)\n",
      "The RMSE for (1, 1, 0)x(0,0,1,4) is: 21.42330941405135\n",
      "Attempting to fit SARIMAX(1,1,0)x(0,0,1,8)\n",
      "The RMSE for (1, 1, 0)x(0,0,1,8) is: 22.016155521985976\n",
      "Attempting to fit SARIMAX(1,1,0)x(0,0,1,12)\n",
      "The RMSE for (1, 1, 0)x(0,0,1,12) is: 18.587766997603776\n",
      "Attempting to fit SARIMAX(1,1,0)x(0,1,1,0)\n",
      "Attempting to fit SARIMAX(1,1,0)x(0,1,1,4)\n",
      "The RMSE for (1, 1, 0)x(0,1,1,4) is: 5.726373071252912\n",
      "Attempting to fit SARIMAX(1,1,0)x(0,1,1,8)\n",
      "The RMSE for (1, 1, 0)x(0,1,1,8) is: 5.7264580827414475\n",
      "Attempting to fit SARIMAX(1,1,0)x(0,1,1,12)\n",
      "The RMSE for (1, 1, 0)x(0,1,1,12) is: 6.026829599866042\n",
      "Attempting to fit SARIMAX(1,1,0)x(0,2,1,0)\n",
      "Attempting to fit SARIMAX(1,1,0)x(0,2,1,4)\n"
     ]
    },
    {
     "name": "stderr",
     "output_type": "stream",
     "text": [
      "/Users/Jelly/anaconda3/lib/python3.7/site-packages/statsmodels/tsa/statespace/sarimax.py:993: UserWarning: Non-invertible starting seasonal moving average Using zeros as starting parameters.\n",
      "  warn('Non-invertible starting seasonal moving average'\n"
     ]
    },
    {
     "name": "stdout",
     "output_type": "stream",
     "text": [
      "The RMSE for (1, 1, 0)x(0,2,1,4) is: 13.529813130393283\n",
      "Attempting to fit SARIMAX(1,1,0)x(0,2,1,8)\n"
     ]
    },
    {
     "name": "stderr",
     "output_type": "stream",
     "text": [
      "/Users/Jelly/anaconda3/lib/python3.7/site-packages/statsmodels/tsa/statespace/sarimax.py:993: UserWarning: Non-invertible starting seasonal moving average Using zeros as starting parameters.\n",
      "  warn('Non-invertible starting seasonal moving average'\n"
     ]
    },
    {
     "name": "stdout",
     "output_type": "stream",
     "text": [
      "The RMSE for (1, 1, 0)x(0,2,1,8) is: 80.70223984133362\n",
      "Attempting to fit SARIMAX(1,1,0)x(0,2,1,12)\n"
     ]
    },
    {
     "name": "stderr",
     "output_type": "stream",
     "text": [
      "/Users/Jelly/anaconda3/lib/python3.7/site-packages/statsmodels/tsa/statespace/sarimax.py:993: UserWarning: Non-invertible starting seasonal moving average Using zeros as starting parameters.\n",
      "  warn('Non-invertible starting seasonal moving average'\n"
     ]
    },
    {
     "name": "stdout",
     "output_type": "stream",
     "text": [
      "The RMSE for (1, 1, 0)x(0,2,1,12) is: 8.6915365346113\n",
      "Attempting to fit SARIMAX(1,1,0)x(0,0,2,0)\n",
      "The RMSE for (1, 1, 0)x(0,0,2,0) is: 20.078160720857856\n",
      "Attempting to fit SARIMAX(1,1,0)x(0,0,2,4)\n",
      "The RMSE for (1, 1, 0)x(0,0,2,4) is: 21.010091271878444\n",
      "Attempting to fit SARIMAX(1,1,0)x(0,0,2,8)\n",
      "The RMSE for (1, 1, 0)x(0,0,2,8) is: 22.246045272822933\n",
      "Attempting to fit SARIMAX(1,1,0)x(0,0,2,12)\n",
      "The RMSE for (1, 1, 0)x(0,0,2,12) is: 19.838523519740264\n",
      "Attempting to fit SARIMAX(1,1,0)x(0,1,2,0)\n",
      "Attempting to fit SARIMAX(1,1,0)x(0,1,2,4)\n",
      "The RMSE for (1, 1, 0)x(0,1,2,4) is: 5.232453193218486\n",
      "Attempting to fit SARIMAX(1,1,0)x(0,1,2,8)\n"
     ]
    },
    {
     "name": "stderr",
     "output_type": "stream",
     "text": [
      "/Users/Jelly/anaconda3/lib/python3.7/site-packages/statsmodels/tsa/statespace/sarimax.py:993: UserWarning: Non-invertible starting seasonal moving average Using zeros as starting parameters.\n",
      "  warn('Non-invertible starting seasonal moving average'\n"
     ]
    },
    {
     "name": "stdout",
     "output_type": "stream",
     "text": [
      "The RMSE for (1, 1, 0)x(0,1,2,8) is: 5.030248623099702\n",
      "Attempting to fit SARIMAX(1,1,0)x(0,1,2,12)\n",
      "The RMSE for (1, 1, 0)x(0,1,2,12) is: 6.030858419335544\n",
      "Attempting to fit SARIMAX(1,1,0)x(0,2,2,0)\n",
      "Attempting to fit SARIMAX(1,1,0)x(0,2,2,4)\n"
     ]
    },
    {
     "name": "stderr",
     "output_type": "stream",
     "text": [
      "/Users/Jelly/anaconda3/lib/python3.7/site-packages/statsmodels/base/model.py:512: ConvergenceWarning: Maximum Likelihood optimization failed to converge. Check mle_retvals\n",
      "  \"Check mle_retvals\", ConvergenceWarning)\n",
      "/Users/Jelly/anaconda3/lib/python3.7/site-packages/statsmodels/tsa/statespace/sarimax.py:993: UserWarning: Non-invertible starting seasonal moving average Using zeros as starting parameters.\n",
      "  warn('Non-invertible starting seasonal moving average'\n"
     ]
    },
    {
     "name": "stdout",
     "output_type": "stream",
     "text": [
      "The RMSE for (1, 1, 0)x(0,2,2,4) is: 2.4025565602379055\n",
      "Attempting to fit SARIMAX(1,1,0)x(0,2,2,8)\n",
      "The RMSE for (1, 1, 0)x(0,2,2,8) is: 3.176305097607399\n",
      "Attempting to fit SARIMAX(1,1,0)x(0,2,2,12)\n",
      "The RMSE for (1, 1, 0)x(0,2,2,12) is: 2.1419979112805114\n",
      "Attempting to fit SARIMAX(1,1,0)x(1,0,0,0)\n",
      "The RMSE for (1, 1, 0)x(1,0,0,0) is: 19.972256396912645\n",
      "Attempting to fit SARIMAX(1,1,0)x(1,0,0,4)\n",
      "The RMSE for (1, 1, 0)x(1,0,0,4) is: 20.606907987313605\n",
      "Attempting to fit SARIMAX(1,1,0)x(1,0,0,8)\n",
      "The RMSE for (1, 1, 0)x(1,0,0,8) is: 21.372836617476793\n",
      "Attempting to fit SARIMAX(1,1,0)x(1,0,0,12)\n",
      "The RMSE for (1, 1, 0)x(1,0,0,12) is: 11.717044470636464\n",
      "Attempting to fit SARIMAX(1,1,0)x(1,1,0,0)\n",
      "Attempting to fit SARIMAX(1,1,0)x(1,1,0,4)\n",
      "The RMSE for (1, 1, 0)x(1,1,0,4) is: 54.24086187597108\n",
      "Attempting to fit SARIMAX(1,1,0)x(1,1,0,8)\n",
      "The RMSE for (1, 1, 0)x(1,1,0,8) is: 10.251445032460126\n",
      "Attempting to fit SARIMAX(1,1,0)x(1,1,0,12)\n",
      "The RMSE for (1, 1, 0)x(1,1,0,12) is: 8.804279394388642\n",
      "Attempting to fit SARIMAX(1,1,0)x(1,2,0,0)\n",
      "Attempting to fit SARIMAX(1,1,0)x(1,2,0,4)\n",
      "The RMSE for (1, 1, 0)x(1,2,0,4) is: 574.088230032126\n",
      "Attempting to fit SARIMAX(1,1,0)x(1,2,0,8)\n",
      "The RMSE for (1, 1, 0)x(1,2,0,8) is: 658.0531714094948\n",
      "Attempting to fit SARIMAX(1,1,0)x(1,2,0,12)\n",
      "The RMSE for (1, 1, 0)x(1,2,0,12) is: 77.9891961602966\n",
      "Attempting to fit SARIMAX(1,1,0)x(1,0,1,0)\n",
      "The RMSE for (1, 1, 0)x(1,0,1,0) is: 19.85397060970152\n",
      "Attempting to fit SARIMAX(1,1,0)x(1,0,1,4)\n",
      "The RMSE for (1, 1, 0)x(1,0,1,4) is: 21.380656525080635\n",
      "Attempting to fit SARIMAX(1,1,0)x(1,0,1,8)\n",
      "The RMSE for (1, 1, 0)x(1,0,1,8) is: 22.013030017002688\n",
      "Attempting to fit SARIMAX(1,1,0)x(1,0,1,12)\n",
      "The RMSE for (1, 1, 0)x(1,0,1,12) is: 6.10672932228324\n",
      "Attempting to fit SARIMAX(1,1,0)x(1,1,1,0)\n",
      "Attempting to fit SARIMAX(1,1,0)x(1,1,1,4)\n",
      "The RMSE for (1, 1, 0)x(1,1,1,4) is: 6.519823122553624\n",
      "Attempting to fit SARIMAX(1,1,0)x(1,1,1,8)\n",
      "The RMSE for (1, 1, 0)x(1,1,1,8) is: 6.776953950540561\n",
      "Attempting to fit SARIMAX(1,1,0)x(1,1,1,12)\n",
      "The RMSE for (1, 1, 0)x(1,1,1,12) is: 6.0305878906146315\n",
      "Attempting to fit SARIMAX(1,1,0)x(1,2,1,0)\n",
      "Attempting to fit SARIMAX(1,1,0)x(1,2,1,4)\n",
      "The RMSE for (1, 1, 0)x(1,2,1,4) is: 55.83655390443691\n",
      "Attempting to fit SARIMAX(1,1,0)x(1,2,1,8)\n",
      "The RMSE for (1, 1, 0)x(1,2,1,8) is: 9.063620915644112\n",
      "Attempting to fit SARIMAX(1,1,0)x(1,2,1,12)\n",
      "The RMSE for (1, 1, 0)x(1,2,1,12) is: 8.04636222171165\n",
      "Attempting to fit SARIMAX(1,1,0)x(1,0,2,0)\n",
      "The RMSE for (1, 1, 0)x(1,0,2,0) is: 20.212948333955524\n",
      "Attempting to fit SARIMAX(1,1,0)x(1,0,2,4)\n",
      "The RMSE for (1, 1, 0)x(1,0,2,4) is: 21.548218462117667\n",
      "Attempting to fit SARIMAX(1,1,0)x(1,0,2,8)\n",
      "The RMSE for (1, 1, 0)x(1,0,2,8) is: 21.828301828482555\n",
      "Attempting to fit SARIMAX(1,1,0)x(1,0,2,12)\n",
      "The RMSE for (1, 1, 0)x(1,0,2,12) is: 6.101474381026242\n",
      "Attempting to fit SARIMAX(1,1,0)x(1,1,2,0)\n",
      "Attempting to fit SARIMAX(1,1,0)x(1,1,2,4)\n",
      "The RMSE for (1, 1, 0)x(1,1,2,4) is: 5.286237183709837\n",
      "Attempting to fit SARIMAX(1,1,0)x(1,1,2,8)\n"
     ]
    },
    {
     "name": "stderr",
     "output_type": "stream",
     "text": [
      "/Users/Jelly/anaconda3/lib/python3.7/site-packages/statsmodels/tsa/statespace/sarimax.py:993: UserWarning: Non-invertible starting seasonal moving average Using zeros as starting parameters.\n",
      "  warn('Non-invertible starting seasonal moving average'\n"
     ]
    },
    {
     "name": "stdout",
     "output_type": "stream",
     "text": [
      "The RMSE for (1, 1, 0)x(1,1,2,8) is: 5.178520826859746\n",
      "Attempting to fit SARIMAX(1,1,0)x(1,1,2,12)\n"
     ]
    },
    {
     "name": "stderr",
     "output_type": "stream",
     "text": [
      "/Users/Jelly/anaconda3/lib/python3.7/site-packages/statsmodels/base/model.py:512: ConvergenceWarning: Maximum Likelihood optimization failed to converge. Check mle_retvals\n",
      "  \"Check mle_retvals\", ConvergenceWarning)\n"
     ]
    },
    {
     "name": "stdout",
     "output_type": "stream",
     "text": [
      "The RMSE for (1, 1, 0)x(1,1,2,12) is: 6.028666161260928\n",
      "Attempting to fit SARIMAX(1,1,0)x(1,2,2,0)\n",
      "Attempting to fit SARIMAX(1,1,0)x(1,2,2,4)\n"
     ]
    },
    {
     "name": "stderr",
     "output_type": "stream",
     "text": [
      "/Users/Jelly/anaconda3/lib/python3.7/site-packages/statsmodels/tsa/statespace/sarimax.py:993: UserWarning: Non-invertible starting seasonal moving average Using zeros as starting parameters.\n",
      "  warn('Non-invertible starting seasonal moving average'\n"
     ]
    },
    {
     "name": "stdout",
     "output_type": "stream",
     "text": [
      "The RMSE for (1, 1, 0)x(1,2,2,4) is: 18.260114458213035\n",
      "Attempting to fit SARIMAX(1,1,0)x(1,2,2,8)\n"
     ]
    },
    {
     "name": "stderr",
     "output_type": "stream",
     "text": [
      "/Users/Jelly/anaconda3/lib/python3.7/site-packages/statsmodels/tsa/statespace/sarimax.py:993: UserWarning: Non-invertible starting seasonal moving average Using zeros as starting parameters.\n",
      "  warn('Non-invertible starting seasonal moving average'\n"
     ]
    },
    {
     "name": "stdout",
     "output_type": "stream",
     "text": [
      "The RMSE for (1, 1, 0)x(1,2,2,8) is: 104.8975411756565\n",
      "Attempting to fit SARIMAX(1,1,0)x(1,2,2,12)\n"
     ]
    },
    {
     "name": "stderr",
     "output_type": "stream",
     "text": [
      "/Users/Jelly/anaconda3/lib/python3.7/site-packages/statsmodels/tsa/statespace/sarimax.py:993: UserWarning: Non-invertible starting seasonal moving average Using zeros as starting parameters.\n",
      "  warn('Non-invertible starting seasonal moving average'\n"
     ]
    },
    {
     "name": "stdout",
     "output_type": "stream",
     "text": [
      "The RMSE for (1, 1, 0)x(1,2,2,12) is: 2.0798220172734423\n",
      "Attempting to fit SARIMAX(1,1,0)x(2,0,0,0)\n",
      "The RMSE for (1, 1, 0)x(2,0,0,0) is: 20.684238022164934\n",
      "Attempting to fit SARIMAX(1,1,0)x(2,0,0,4)\n",
      "The RMSE for (1, 1, 0)x(2,0,0,4) is: 22.430572614960806\n",
      "Attempting to fit SARIMAX(1,1,0)x(2,0,0,8)\n",
      "The RMSE for (1, 1, 0)x(2,0,0,8) is: 22.466410933102207\n",
      "Attempting to fit SARIMAX(1,1,0)x(2,0,0,12)\n",
      "The RMSE for (1, 1, 0)x(2,0,0,12) is: 9.859917818376921\n",
      "Attempting to fit SARIMAX(1,1,0)x(2,1,0,0)\n",
      "Attempting to fit SARIMAX(1,1,0)x(2,1,0,4)\n",
      "The RMSE for (1, 1, 0)x(2,1,0,4) is: 8.446876751025465\n",
      "Attempting to fit SARIMAX(1,1,0)x(2,1,0,8)\n",
      "The RMSE for (1, 1, 0)x(2,1,0,8) is: 7.929057888410623\n",
      "Attempting to fit SARIMAX(1,1,0)x(2,1,0,12)\n",
      "The RMSE for (1, 1, 0)x(2,1,0,12) is: 4.885300231228409\n",
      "Attempting to fit SARIMAX(1,1,0)x(2,2,0,0)\n",
      "Attempting to fit SARIMAX(1,1,0)x(2,2,0,4)\n",
      "The RMSE for (1, 1, 0)x(2,2,0,4) is: 174.23662734298566\n",
      "Attempting to fit SARIMAX(1,1,0)x(2,2,0,8)\n",
      "The RMSE for (1, 1, 0)x(2,2,0,8) is: 129.20886560597623\n",
      "Attempting to fit SARIMAX(1,1,0)x(2,2,0,12)\n",
      "The RMSE for (1, 1, 0)x(2,2,0,12) is: 29.38170445085949\n",
      "Attempting to fit SARIMAX(1,1,0)x(2,0,1,0)\n",
      "The RMSE for (1, 1, 0)x(2,0,1,0) is: 22.05261167934497\n",
      "Attempting to fit SARIMAX(1,1,0)x(2,0,1,4)\n",
      "The RMSE for (1, 1, 0)x(2,0,1,4) is: 22.36915765417246\n",
      "Attempting to fit SARIMAX(1,1,0)x(2,0,1,8)\n",
      "The RMSE for (1, 1, 0)x(2,0,1,8) is: 22.500547811412044\n",
      "Attempting to fit SARIMAX(1,1,0)x(2,0,1,12)\n",
      "The RMSE for (1, 1, 0)x(2,0,1,12) is: 6.048822563237915\n",
      "Attempting to fit SARIMAX(1,1,0)x(2,1,1,0)\n",
      "Attempting to fit SARIMAX(1,1,0)x(2,1,1,4)\n",
      "The RMSE for (1, 1, 0)x(2,1,1,4) is: 8.476568204048126\n",
      "Attempting to fit SARIMAX(1,1,0)x(2,1,1,8)\n",
      "The RMSE for (1, 1, 0)x(2,1,1,8) is: 7.578020366953062\n",
      "Attempting to fit SARIMAX(1,1,0)x(2,1,1,12)\n",
      "The RMSE for (1, 1, 0)x(2,1,1,12) is: 5.882945397014493\n",
      "Attempting to fit SARIMAX(1,1,0)x(2,2,1,0)\n",
      "Attempting to fit SARIMAX(1,1,0)x(2,2,1,4)\n",
      "The RMSE for (1, 1, 0)x(2,2,1,4) is: 7.4335428062883375\n",
      "Attempting to fit SARIMAX(1,1,0)x(2,2,1,8)\n"
     ]
    },
    {
     "name": "stderr",
     "output_type": "stream",
     "text": [
      "/Users/Jelly/anaconda3/lib/python3.7/site-packages/statsmodels/base/model.py:512: ConvergenceWarning: Maximum Likelihood optimization failed to converge. Check mle_retvals\n",
      "  \"Check mle_retvals\", ConvergenceWarning)\n"
     ]
    },
    {
     "name": "stdout",
     "output_type": "stream",
     "text": [
      "The RMSE for (1, 1, 0)x(2,2,1,8) is: 6.929481719380702\n",
      "Attempting to fit SARIMAX(1,1,0)x(2,2,1,12)\n",
      "The RMSE for (1, 1, 0)x(2,2,1,12) is: 3.384544893327207\n",
      "Attempting to fit SARIMAX(1,1,0)x(2,0,2,0)\n",
      "The RMSE for (1, 1, 0)x(2,0,2,0) is: 21.359860175343943\n",
      "Attempting to fit SARIMAX(1,1,0)x(2,0,2,4)\n"
     ]
    },
    {
     "name": "stderr",
     "output_type": "stream",
     "text": [
      "/Users/Jelly/anaconda3/lib/python3.7/site-packages/statsmodels/base/model.py:512: ConvergenceWarning: Maximum Likelihood optimization failed to converge. Check mle_retvals\n",
      "  \"Check mle_retvals\", ConvergenceWarning)\n"
     ]
    },
    {
     "name": "stdout",
     "output_type": "stream",
     "text": [
      "The RMSE for (1, 1, 0)x(2,0,2,4) is: 22.34291485439802\n",
      "Attempting to fit SARIMAX(1,1,0)x(2,0,2,8)\n",
      "The RMSE for (1, 1, 0)x(2,0,2,8) is: 22.266662608615025\n",
      "Attempting to fit SARIMAX(1,1,0)x(2,0,2,12)\n",
      "The RMSE for (1, 1, 0)x(2,0,2,12) is: 6.088273661697741\n",
      "Attempting to fit SARIMAX(1,1,0)x(2,1,2,0)\n",
      "Attempting to fit SARIMAX(1,1,0)x(2,1,2,4)\n",
      "The RMSE for (1, 1, 0)x(2,1,2,4) is: 6.181059866528459\n",
      "Attempting to fit SARIMAX(1,1,0)x(2,1,2,8)\n",
      "The RMSE for (1, 1, 0)x(2,1,2,8) is: 3.6476235789688105\n",
      "Attempting to fit SARIMAX(1,1,0)x(2,1,2,12)\n",
      "The RMSE for (1, 1, 0)x(2,1,2,12) is: 5.860155891011038\n",
      "Attempting to fit SARIMAX(1,1,0)x(2,2,2,0)\n",
      "Attempting to fit SARIMAX(1,1,0)x(2,2,2,4)\n",
      "The RMSE for (1, 1, 0)x(2,2,2,4) is: 7.432551611594314\n",
      "Attempting to fit SARIMAX(1,1,0)x(2,2,2,8)\n"
     ]
    },
    {
     "name": "stderr",
     "output_type": "stream",
     "text": [
      "/Users/Jelly/anaconda3/lib/python3.7/site-packages/statsmodels/base/model.py:512: ConvergenceWarning: Maximum Likelihood optimization failed to converge. Check mle_retvals\n",
      "  \"Check mle_retvals\", ConvergenceWarning)\n"
     ]
    },
    {
     "name": "stdout",
     "output_type": "stream",
     "text": [
      "The RMSE for (1, 1, 0)x(2,2,2,8) is: 6.8185403997383744\n",
      "Attempting to fit SARIMAX(1,1,0)x(2,2,2,12)\n",
      "The RMSE for (1, 1, 0)x(2,2,2,12) is: 2.066851800103747\n",
      "Our model that minimizes MSE on the testing data is the SARIMAX(0, 2, 1)x(2,2,2,12).\n",
      "This model has an MSE of 4.271876363592099.\n"
     ]
    }
   ],
   "source": [
    "# Starting MSE and (P, D, Q, S).\n",
    "best_mse = 99 * (10 ** 16)\n",
    "final_P = 0\n",
    "final_D = 0\n",
    "final_Q = 0\n",
    "final_S = 0\n",
    "\n",
    "for P in range(3):\n",
    "    for Q in range(3):\n",
    "        for D in range(3):\n",
    "            for S in range(0,13,4):\n",
    "                try:\n",
    "                    print(f'Attempting to fit SARIMAX(1,1,0)x({P},{D},{Q},{S})')\n",
    "                    # Instantiate SARIMAX model.\n",
    "                    sarimax = SARIMAX(endog = y_train.astype(float).dropna(),\n",
    "                                     order = (1, 1, 0),              # (p, d, q)\n",
    "                                     seasonal_order = (P, D, Q, S)) # (P, D, Q, S)) \n",
    " \n",
    "                    # Fit SARIMAX model.\n",
    "                    model = sarimax.fit()\n",
    "\n",
    "                    # Generate predictions based on test set.\n",
    "                    preds = model.predict(start=datetime(2000, 7, 31),\n",
    "                                          end=datetime(2018, 9, 30))\n",
    "\n",
    "                    # Evaluate predictions.\n",
    "                    rmse = mean_squared_error(y_test.values, preds) ** 0.5\n",
    "                    print(f'The RMSE for (1, 1, 0)x({P},{D},{Q},{S}) is: {rmse}')\n",
    "\n",
    "                    # Save for final report.\n",
    "                    if best_mse > mean_squared_error(y_test, preds):\n",
    "                        best_mse = mean_squared_error(y_test, preds)\n",
    "                        final_P = P\n",
    "                        final_D = D\n",
    "                        final_Q = Q\n",
    "                        final_S = S\n",
    "\n",
    "                except:\n",
    "                    pass\n",
    "\n",
    "print(f'SARIMAX(1, 1, 1)x({final_P},{final_D},{final_Q},{final_S}).')\n",
    "print(f'This model has an MSE of {best_mse}.')"
   ]
  },
  {
   "cell_type": "code",
   "execution_count": 263,
   "metadata": {},
   "outputs": [
    {
     "data": {
      "image/png": "[encoded data removed]",
      "text/plain": [
       "<Figure size 576x360 with 1 Axes>"
      ]
     },
     "metadata": {},
     "output_type": "display_data"
    }
   ],
   "source": [
    "sarima = SARIMAX(endog = y_train.astype(float).dropna(),\n",
    "                 order = (1, 1, 0),\n",
    "                 seasonal_order = (2, 2, 2, 12))\n",
    "\n",
    "model = sarima.fit()\n",
    "\n",
    "preds = model.predict(start=datetime(2000, 7, 31),\n",
    "                      end=datetime(2018, 9, 30))\n",
    "\n",
    "train_df = pd.DataFrame(columns=['date', 'co2', 'data'])\n",
    "train_df['date'] = pd.to_datetime(X_train, format='%Y-%m-%d')\n",
    "train_df['co2'] = y_train.values\n",
    "train_df['data'] = 'train'\n",
    "\n",
    "test_df = pd.DataFrame(columns=['date', 'co2', 'data'])\n",
    "test_df['date'] = pd.to_datetime(X_test, format='%Y-%m-%d')\n",
    "test_df['co2'] = y_test.values\n",
    "test_df['data'] = 'test'\n",
    "\n",
    "preds_df = pd.DataFrame(columns=['date', 'co2', 'data'])\n",
    "preds_df['date'] = pd.to_datetime(X_test, format='%Y-%m-%d')\n",
    "preds_df['co2'] = preds.values\n",
    "preds_df['data'] = 'preds'\n",
    "\n",
    "plot_df = pd.concat([train_df, test_df, preds_df], axis=0)\n",
    "plot_df.reset_index(drop=True, inplace=True)\n",
    "\n",
    "plt.figure(figsize=(8,5))\n",
    "\n",
    "ax = sns.lineplot(x='date', y='co2', hue='data', data=plot_df)\n",
    "\n",
    "ax.set(title='CO2 level')\n",
    "ax.set(ylabel='parts per million');"
   ]
  },
  {
   "cell_type": "code",
   "execution_count": 95,
   "metadata": {},
   "outputs": [],
   "source": [
    "from scipy.stats import ttest_ind_from_stats"
   ]
  },
  {
   "cell_type": "code",
   "execution_count": 96,
   "metadata": {},
   "outputs": [
    {
     "data": {
      "text/plain": [
       "Ttest_indResult(statistic=-4.609164998509353, pvalue=6.881626543532403e-06)"
      ]
     },
     "execution_count": 96,
     "metadata": {},
     "output_type": "execute_result"
    }
   ],
   "source": [
    "ttest_ind_from_stats(1100, 165, 140, 1200, 135, 80)"
   ]
  },
  {
   "cell_type": "code",
   "execution_count": null,
   "metadata": {},
   "outputs": [],
   "source": []
  }
 ],
 "metadata": {
  "kernelspec": {
   "display_name": "Python 3",
   "language": "python",
   "name": "python3"
  },
  "language_info": {
   "codemirror_mode": {
    "name": "ipython",
    "version": 3
   },
   "file_extension": ".py",
   "mimetype": "text/x-python",
   "name": "python",
   "nbconvert_exporter": "python",
   "pygments_lexer": "ipython3",
   "version": "3.7.3"
  }
 },
 "nbformat": 4,
 "nbformat_minor": 2
}
